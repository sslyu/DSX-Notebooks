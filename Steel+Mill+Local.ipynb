{
    "nbformat": 4, 
    "metadata": {
        "language_info": {
            "pygments_lexer": "ipython2", 
            "name": "python", 
            "mimetype": "text/x-python", 
            "codemirror_mode": {
                "version": 2, 
                "name": "ipython"
            }, 
            "version": "2.7.11", 
            "file_extension": ".py", 
            "nbconvert_exporter": "python"
        }, 
        "kernelspec": {
            "language": "python", 
            "name": "python2", 
            "display_name": "Python 2 with Spark 1.6"
        }
    }, 
    "cells": [
        {
            "source": "# Building steel coils\n\nThis tutorial includes everything you need to set up decision optimization engines, and build constraint programming models to optimize the steel mill slab design problem solution. This problem is based on \"prob038: Steel mill slab design problem\" from [CSPLib](http://www.csplib.org). All data and instructions that you need to model and solve this problem are included.\n\n\nWhen you finish this tutorial, you'll have a foundational knowledge of _Prescriptive Analytics_.\n\n>This notebook is part of [Prescriptive Analytics for Python](https://rawgit.com/IBMDecisionOptimization/docplex-doc/master/docs/index.html).\n\n>This notebook requires a valid subscription to [Decision Optimization on Cloud](https://developer.ibm.com/docloud) or a local installation of CPLEX Optimizers.\n\nSome familiarity with Python is recommended.\n", 
            "metadata": {}, 
            "cell_type": "markdown"
        }, 
        {
            "source": " ## Table of contents \n\n-  [Describe the business problem](#Describe-the-business-problem)<br>\n-  [How decision optimization (prescriptive analytics) can help](#How--decision-optimization-can-help)<br>\n-  [Use decision optimization](#Use-decision-optimization)<br>\n    1.  [Download the library](#Download-library)<br>\n    2.  [Set up the engines](#Step-2:-Set-up-the-prescriptive-engine)<br>\n    3.  [Model the data](#Step-3:-Model-the-data)<br>\n    4.  [Set up the prescriptive model](#Step-4:-Set-up-the-prescriptive-model)<br>\n        4.1 [Define the decision variables](#Define-the-decision-variables)<br>\n        4.2 [Express the business constraints](#Express-the-business-constraints)<br>\n        4.3 [Express the objective](#Express-objective)<br>\n        4.4 [Solve with Decision Optimization solve service](#Solve-with-Decision-Optimization-solve-service)<br>\n    5. [Investigate the solution and run an example analysis](#Step-5:-Investigate-the-solution-and-then-run-an-example-analysis)<br>\n-  [Summary](#Summary)<br>\n****\n   ", 
            "metadata": {}, 
            "cell_type": "markdown"
        }, 
        {
            "source": "### Describe the business problem\n\n* The problem is to build steel coils from slabs that are available in a work-in-process inventory of semi-finished products. There is no limitation in the number of slabs that can be requested, but only a finite number of slab sizes is available (sizes 11, 13, 16, 17, 19, 20, 23, 24, 25, 26, 27, 28, 29, 30, 33, 34, 40, 43, 45). \n* The problem is to select a number of slabs to build the coil orders, and to satisfy the following constraints:\n    * A coil order can be built from only one slab.\n    * Each coil order requires a specific process to build it from a slab. This process is encoded by a color.\n    * Several coil orders can be built from the same slab. But a slab can be used to produce at most two different \"colors\" of coils.\n    * The sum of the sizes of each coil order built from a slab must not exceed the slab size.\n\n\n* Finally, the production plan should minimize the unused capacity of the selected slabs.", 
            "metadata": {}, 
            "cell_type": "markdown"
        }, 
        {
            "source": "## How  decision optimization can help\n\nPrescriptive analytics (decision optimization) technology recommends actions that are based on desired outcomes. It considers specific scenarios, resources, and knowledge of past and current events. With this insight, your organization can make better decisions and have greater control over business outcomes.\n\nPrescriptive analytics is the next step on the path to insight-based actions. It creates value through synergy with predictive analytics, which analyzes data to predict future outcomes. Prescriptive analytics takes that insight to the next level by suggesting the optimal way to handle a future situation. Organizations that act fast in dynamic conditions and make superior decisions in uncertain environments gain a strong competitive advantage.\n\nWith prescriptive analytics, you can:\n\n* Automate the complex decisions and trade-offs to better manage your limited resources.\n    \n* Take advantage of a future opportunity or mitigate a future risk.\n    \n* Proactively update recommendations based on changing events.\n    \n* Meet operational goals, increase customer loyalty, prevent threats and fraud, and optimize business processes.\n", 
            "metadata": {}, 
            "cell_type": "markdown"
        }, 
        {
            "source": "## Use decision optimization", 
            "metadata": {}, 
            "cell_type": "markdown"
        }, 
        {
            "source": "<a id=\"Download-library\"></a>\n## 1. Download the DOcplex library\n\nDOcplex is the Decision Optimization CPLEX Modeling library for Python. This library includes two modules, Mathematical Programming Modeling (DOcplex.MP ) and Constraint Programming Modeling (DOcplex.CP).\n\nRun the following cell to install the library. The `real.prefix` in the code is used to detect whether the script is running inside a virtual environment, and adjust the install procedure accordingly.", 
            "metadata": {}, 
            "cell_type": "markdown"
        }, 
        {
            "source": "!pip install docplex", 
            "metadata": {
                "scrolled": true
            }, 
            "execution_count": 1, 
            "outputs": [
                {
                    "name": "stdout", 
                    "output_type": "stream", 
                    "text": "Requirement already satisfied: docplex in /gpfs/global_fs01/sym_shared/YPProdSpark/user/s7e3-47aedd6eaaec18-8cdc7af56667/.local/lib/python2.7/site-packages\nRequirement already satisfied: docloud>=1.0.257 in /gpfs/global_fs01/sym_shared/YPProdSpark/user/s7e3-47aedd6eaaec18-8cdc7af56667/.local/lib/python2.7/site-packages (from docplex)\nRequirement already satisfied: requests in /usr/local/src/bluemix_jupyter_bundle.v67/notebook/lib/python2.7/site-packages (from docplex)\nRequirement already satisfied: futures in /gpfs/global_fs01/sym_shared/YPProdSpark/user/s7e3-47aedd6eaaec18-8cdc7af56667/.local/lib/python2.7/site-packages (from docplex)\nRequirement already satisfied: six in /gpfs/global_fs01/sym_shared/YPProdSpark/user/s7e3-47aedd6eaaec18-8cdc7af56667/.local/lib/python2.7/site-packages (from docplex)\nRequirement already satisfied: enum34 in /gpfs/global_fs01/sym_shared/YPProdSpark/user/s7e3-47aedd6eaaec18-8cdc7af56667/.local/lib/python2.7/site-packages (from docloud>=1.0.257->docplex)\nRequirement already satisfied: urllib3<1.23,>=1.21.1 in /usr/local/src/bluemix_jupyter_bundle.v67/notebook/lib/python2.7/site-packages (from requests->docplex)\nRequirement already satisfied: idna<2.7,>=2.5 in /usr/local/src/bluemix_jupyter_bundle.v67/notebook/lib/python2.7/site-packages (from requests->docplex)\nRequirement already satisfied: chardet<3.1.0,>=3.0.2 in /gpfs/global_fs01/sym_shared/YPProdSpark/user/s7e3-47aedd6eaaec18-8cdc7af56667/.local/lib/python2.7/site-packages (from requests->docplex)\nRequirement already satisfied: certifi>=2017.4.17 in /usr/local/src/bluemix_jupyter_bundle.v67/notebook/lib/python2.7/site-packages (from requests->docplex)\n"
                }
            ], 
            "cell_type": "code"
        }, 
        {
            "source": "import docplex.cp", 
            "metadata": {
                "collapsed": true
            }, 
            "execution_count": 2, 
            "outputs": [], 
            "cell_type": "code"
        }, 
        {
            "source": "Note that the more global package <i>docplex</i> contains another subpackage <i>docplex.mp</i> that is dedicated to Mathematical Programming, another branch of optimization.", 
            "metadata": {}, 
            "cell_type": "markdown"
        }, 
        {
            "source": "<a id=\"Step-2:-Set-up-the-prescriptive-engine\"></a>\n## 2. Set up the prescriptive engine\n\nTo access the DOcplexcloud solve service, perform the following steps:\n\n* Subscribe to the [Decision Optimization on Cloud](https://developer.ibm.com/docloud) (DOcplexcloud) service.\n* Get the service base URL and personal API key.\n* Enter the URL and API key in the cell below, enclosed in quotation marks (\"\"), and run the cell. \n\n__Note:__ For a persistent setting, create a Python configuration file *docloud_config.py* in a location that is visible to PYTHONPATH.", 
            "metadata": {}, 
            "cell_type": "markdown"
        }, 
        {
            "source": "# Initialize IBM Decision Optimization credentials\nSVC_URL = \"ENTER YOUR URL HERE\" \nSVC_KEY = \"ENTER YOUR CREDENTIAL ID HERE\"", 
            "metadata": {
                "collapsed": true, 
                "render": false
            }, 
            "execution_count": 3, 
            "outputs": [], 
            "cell_type": "code"
        }, 
        {
            "source": "Import the DOcplex library. ", 
            "metadata": {}, 
            "cell_type": "markdown"
        }, 
        {
            "source": "from docplex.cp.model import *", 
            "metadata": {
                "collapsed": true
            }, 
            "execution_count": 4, 
            "outputs": [], 
            "cell_type": "code"
        }, 
        {
            "source": "<div class=\"alert alert-block alert-info\"> Note: This notebook requires a full subscription to CPLEX 12.7.1 or above, that is with a valid docplexcloud url and key.</div> ", 
            "metadata": {}, 
            "cell_type": "markdown"
        }, 
        {
            "source": "<a id=\"Step-3:-Model-the-data\"></a>\n## 3. Model the data", 
            "metadata": {}, 
            "cell_type": "markdown"
        }, 
        {
            "source": "Set the model parameters. The comments in the code provide details about the data.", 
            "metadata": {}, 
            "cell_type": "markdown"
        }, 
        {
            "source": "from collections import namedtuple\n\n##############################################################################\n# Model configuration\n##############################################################################\n\n# The number of coils to produce\nTUPLE_ORDER = namedtuple(\"TUPLE_ORDER\", [\"index\", \"weight\", \"color\"])\norders = [ TUPLE_ORDER(1, 22, 5),\n           TUPLE_ORDER(2,  9, 3),\n           TUPLE_ORDER(3,  9, 4),\n           TUPLE_ORDER(4,  8, 5),\n           TUPLE_ORDER(5,  8, 7),\n           TUPLE_ORDER(6,  6, 3),\n           TUPLE_ORDER(7,  5, 6),\n           TUPLE_ORDER(8,  3, 0),\n           TUPLE_ORDER(9,  3, 2),\n           TUPLE_ORDER(10, 3, 3),\n           TUPLE_ORDER(11, 2, 1),\n           TUPLE_ORDER(12, 2, 5)\n           ]\n\nNB_SLABS = 12\nMAX_COLOR_PER_SLAB = 2\n\n# The total number of slabs available.  In theory this can be unlimited,\n# but we impose a reasonable upper bound in order to produce a practical\n# optimization model.\n\n# The different slab weights available.\nslab_weights = [ 0, 11, 13, 16, 17, 19, 20, 23, 24, 25,\n                 26, 27, 28, 29, 30, 33, 34, 40, 43, 45 ]", 
            "metadata": {
                "collapsed": true
            }, 
            "execution_count": 5, 
            "outputs": [], 
            "cell_type": "code"
        }, 
        {
            "source": "nb_orders = len(orders)\nslabs = range(NB_SLABS)\nallcolors = set([ o.color for o in orders ])\n\n# CPO needs lists for pack constraint\norder_weights = [ o.weight for o in orders ]\n\n# The heaviest slab\nmax_slab_weight = max(slab_weights)\n\n# The amount of loss incurred for different amounts of slab use\n# The loss will depend on how much less steel is used than the slab\n# just large enough to produce the coils.\nloss = [ min([sw-use for sw in slab_weights if sw >= use]) for use in range(max_slab_weight+1)]", 
            "metadata": {
                "collapsed": true
            }, 
            "execution_count": 6, 
            "outputs": [], 
            "cell_type": "code"
        }, 
        {
            "source": "<a id=\"Step-4:-Set-up-the-prescriptive-model\"></a>\n## 4. Set up the prescriptive model", 
            "metadata": {}, 
            "cell_type": "markdown"
        }, 
        {
            "source": "Creates the CPO model.", 
            "metadata": {}, 
            "cell_type": "markdown"
        }, 
        {
            "source": "mdl = CpoModel(name=\"trucks\")", 
            "metadata": {
                "collapsed": true
            }, 
            "execution_count": 7, 
            "outputs": [], 
            "cell_type": "code"
        }, 
        {
            "source": "<a id=\"Define-the-decision-variables\"></a>\n### 4.1 Define the decision variables", 
            "metadata": {}, 
            "cell_type": "markdown"
        }, 
        {
            "source": "# Which slab is used to produce each coil\nproduction_slab = integer_var_dict(orders, 0, NB_SLABS-1, \"production_slab\")\n\n# How much of each slab is used\nslab_use = integer_var_list(NB_SLABS, 0, max_slab_weight, \"slab_use\")", 
            "metadata": {
                "collapsed": true
            }, 
            "execution_count": 8, 
            "outputs": [], 
            "cell_type": "code"
        }, 
        {
            "source": "<a id=\"Express-the-business-constraints\"></a>\n### 4.2 Express the business constraints", 
            "metadata": {}, 
            "cell_type": "markdown"
        }, 
        {
            "source": "# The total loss is\ntotal_loss = sum([element(slab_use[s], loss) for s in slabs])\n\n# The orders are allocated to the slabs with capacity\nmdl.add(pack(slab_use, [production_slab[o] for o in orders], order_weights))\n\n# At most MAX_COLOR_PER_SLAB colors per slab\nfor s in slabs:\n   su = 0\n   for c in allcolors:\n       lo = False\n       for o in orders:\n           if o.color==c:\n               lo = (production_slab[o] == s) | lo\n       su += lo\n   mdl.add(su <= MAX_COLOR_PER_SLAB)", 
            "metadata": {
                "collapsed": true
            }, 
            "execution_count": 9, 
            "outputs": [], 
            "cell_type": "code"
        }, 
        {
            "source": "<a id=\"Express-objective\"></a>\n### 4.3 Express the objective", 
            "metadata": {}, 
            "cell_type": "markdown"
        }, 
        {
            "source": "# Add minimization objective\nmdl.add(minimize(total_loss))", 
            "metadata": {
                "collapsed": true
            }, 
            "execution_count": 10, 
            "outputs": [], 
            "cell_type": "code"
        }, 
        {
            "source": "<a id=\"Solve-with-Decision-Optimization-solve-service\"></a>\n### 4.4 Solve with Decision Optimization solve service", 
            "metadata": {}, 
            "cell_type": "markdown"
        }, 
        {
            "source": "print(\"\\nSolving model....\")\n# Search strategy\nmdl.set_search_phases([search_phase([production_slab[o] for o in orders])])\n\nmsol = mdl.solve(url=SVC_URL, key=SVC_KEY, FailLimit=100000, TimeLimit=10)", 
            "metadata": {}, 
            "execution_count": 11, 
            "outputs": [
                {
                    "name": "stdout", 
                    "output_type": "stream", 
                    "text": "\nSolving model....\n"
                }, 
                {
                    "traceback": [
                        "\u001b[0;31m\u001b[0m", 
                        "\u001b[0;31mCpoException\u001b[0mTraceback (most recent call last)", 
                        "\u001b[0;32m<ipython-input-11-cdac28120076>\u001b[0m in \u001b[0;36m<module>\u001b[0;34m()\u001b[0m\n\u001b[1;32m      3\u001b[0m \u001b[0mmdl\u001b[0m\u001b[0;34m.\u001b[0m\u001b[0mset_search_phases\u001b[0m\u001b[0;34m(\u001b[0m\u001b[0;34m[\u001b[0m\u001b[0msearch_phase\u001b[0m\u001b[0;34m(\u001b[0m\u001b[0;34m[\u001b[0m\u001b[0mproduction_slab\u001b[0m\u001b[0;34m[\u001b[0m\u001b[0mo\u001b[0m\u001b[0;34m]\u001b[0m \u001b[0;32mfor\u001b[0m \u001b[0mo\u001b[0m \u001b[0;32min\u001b[0m \u001b[0morders\u001b[0m\u001b[0;34m]\u001b[0m\u001b[0;34m)\u001b[0m\u001b[0;34m]\u001b[0m\u001b[0;34m)\u001b[0m\u001b[0;34m\u001b[0m\u001b[0m\n\u001b[1;32m      4\u001b[0m \u001b[0;34m\u001b[0m\u001b[0m\n\u001b[0;32m----> 5\u001b[0;31m \u001b[0mmsol\u001b[0m \u001b[0;34m=\u001b[0m \u001b[0mmdl\u001b[0m\u001b[0;34m.\u001b[0m\u001b[0msolve\u001b[0m\u001b[0;34m(\u001b[0m\u001b[0murl\u001b[0m\u001b[0;34m=\u001b[0m\u001b[0mSVC_URL\u001b[0m\u001b[0;34m,\u001b[0m \u001b[0mkey\u001b[0m\u001b[0;34m=\u001b[0m\u001b[0mSVC_KEY\u001b[0m\u001b[0;34m,\u001b[0m \u001b[0mFailLimit\u001b[0m\u001b[0;34m=\u001b[0m\u001b[0;36m100000\u001b[0m\u001b[0;34m,\u001b[0m \u001b[0mTimeLimit\u001b[0m\u001b[0;34m=\u001b[0m\u001b[0;36m10\u001b[0m\u001b[0;34m)\u001b[0m\u001b[0;34m\u001b[0m\u001b[0m\n\u001b[0m", 
                        "\u001b[0;32m/gpfs/fs01/user/s7e3-47aedd6eaaec18-8cdc7af56667/.local/lib/python2.7/site-packages/docplex/cp/model.pyc\u001b[0m in \u001b[0;36msolve\u001b[0;34m(self, **kwargs)\u001b[0m\n\u001b[1;32m    568\u001b[0m             \u001b[0;34m:\u001b[0m\u001b[0;32mclass\u001b[0m\u001b[0;34m:\u001b[0m\u001b[0;34m`\u001b[0m\u001b[0;34m~\u001b[0m\u001b[0mdocplex\u001b[0m\u001b[0;34m.\u001b[0m\u001b[0mcp\u001b[0m\u001b[0;34m.\u001b[0m\u001b[0mutils\u001b[0m\u001b[0;34m.\u001b[0m\u001b[0mCpoException\u001b[0m\u001b[0;34m`\u001b[0m\u001b[0;34m:\u001b[0m \u001b[0;34m(\u001b[0m\u001b[0;32mor\u001b[0m \u001b[0mderived\u001b[0m\u001b[0;34m)\u001b[0m \u001b[0;32mif\u001b[0m \u001b[0merror\u001b[0m\u001b[0;34m.\u001b[0m\u001b[0;34m\u001b[0m\u001b[0m\n\u001b[1;32m    569\u001b[0m         \"\"\"\n\u001b[0;32m--> 570\u001b[0;31m         \u001b[0msolver\u001b[0m \u001b[0;34m=\u001b[0m \u001b[0mCpoSolver\u001b[0m\u001b[0;34m(\u001b[0m\u001b[0mself\u001b[0m\u001b[0;34m,\u001b[0m \u001b[0;34m**\u001b[0m\u001b[0mkwargs\u001b[0m\u001b[0;34m)\u001b[0m\u001b[0;34m\u001b[0m\u001b[0m\n\u001b[0m\u001b[1;32m    571\u001b[0m         \u001b[0;32mreturn\u001b[0m \u001b[0msolver\u001b[0m\u001b[0;34m.\u001b[0m\u001b[0msolve\u001b[0m\u001b[0;34m(\u001b[0m\u001b[0;34m)\u001b[0m\u001b[0;34m\u001b[0m\u001b[0m\n\u001b[1;32m    572\u001b[0m \u001b[0;34m\u001b[0m\u001b[0m\n", 
                        "\u001b[0;32m/gpfs/fs01/user/s7e3-47aedd6eaaec18-8cdc7af56667/.local/lib/python2.7/site-packages/docplex/cp/solver/solver.pyc\u001b[0m in \u001b[0;36m__init__\u001b[0;34m(self, model, **kwargs)\u001b[0m\n\u001b[1;32m    392\u001b[0m \u001b[0;34m\u001b[0m\u001b[0m\n\u001b[1;32m    393\u001b[0m         \u001b[0;31m# Determine appropriate solver agent\u001b[0m\u001b[0;34m\u001b[0m\u001b[0;34m\u001b[0m\u001b[0m\n\u001b[0;32m--> 394\u001b[0;31m         \u001b[0mself\u001b[0m\u001b[0;34m.\u001b[0m\u001b[0magent\u001b[0m \u001b[0;34m=\u001b[0m \u001b[0mself\u001b[0m\u001b[0;34m.\u001b[0m\u001b[0m_get_solver_agent\u001b[0m\u001b[0;34m(\u001b[0m\u001b[0;34m)\u001b[0m\u001b[0;34m\u001b[0m\u001b[0m\n\u001b[0m\u001b[1;32m    395\u001b[0m \u001b[0;34m\u001b[0m\u001b[0m\n\u001b[1;32m    396\u001b[0m \u001b[0;34m\u001b[0m\u001b[0m\n", 
                        "\u001b[0;32m/gpfs/fs01/user/s7e3-47aedd6eaaec18-8cdc7af56667/.local/lib/python2.7/site-packages/docplex/cp/solver/solver.pyc\u001b[0m in \u001b[0;36m_get_solver_agent\u001b[0;34m(self)\u001b[0m\n\u001b[1;32m    654\u001b[0m         \u001b[0;32mif\u001b[0m \u001b[0mis_string\u001b[0m\u001b[0;34m(\u001b[0m\u001b[0malist\u001b[0m\u001b[0;34m)\u001b[0m\u001b[0;34m:\u001b[0m\u001b[0;34m\u001b[0m\u001b[0m\n\u001b[1;32m    655\u001b[0m             \u001b[0maname\u001b[0m \u001b[0;34m=\u001b[0m \u001b[0malist\u001b[0m\u001b[0;34m\u001b[0m\u001b[0m\n\u001b[0;32m--> 656\u001b[0;31m             \u001b[0magent\u001b[0m \u001b[0;34m=\u001b[0m \u001b[0mself\u001b[0m\u001b[0;34m.\u001b[0m\u001b[0m_create_solver_agent\u001b[0m\u001b[0;34m(\u001b[0m\u001b[0malist\u001b[0m\u001b[0;34m)\u001b[0m\u001b[0;34m\u001b[0m\u001b[0m\n\u001b[0m\u001b[1;32m    657\u001b[0m         \u001b[0;32melse\u001b[0m\u001b[0;34m:\u001b[0m\u001b[0;34m\u001b[0m\u001b[0m\n\u001b[1;32m    658\u001b[0m             \u001b[0;31m# Search first available agent in the list\u001b[0m\u001b[0;34m\u001b[0m\u001b[0;34m\u001b[0m\u001b[0m\n", 
                        "\u001b[0;32m/gpfs/fs01/user/s7e3-47aedd6eaaec18-8cdc7af56667/.local/lib/python2.7/site-packages/docplex/cp/solver/solver.pyc\u001b[0m in \u001b[0;36m_create_solver_agent\u001b[0;34m(self, aname)\u001b[0m\n\u001b[1;32m    716\u001b[0m \u001b[0;34m\u001b[0m\u001b[0m\n\u001b[1;32m    717\u001b[0m         \u001b[0;31m# Create agent instance\u001b[0m\u001b[0;34m\u001b[0m\u001b[0;34m\u001b[0m\u001b[0m\n\u001b[0;32m--> 718\u001b[0;31m         \u001b[0magent\u001b[0m \u001b[0;34m=\u001b[0m \u001b[0msclass\u001b[0m\u001b[0;34m(\u001b[0m\u001b[0mself\u001b[0m\u001b[0;34m.\u001b[0m\u001b[0mmodel\u001b[0m\u001b[0;34m,\u001b[0m \u001b[0msctx\u001b[0m\u001b[0;34m.\u001b[0m\u001b[0mparams\u001b[0m\u001b[0;34m,\u001b[0m \u001b[0msctx\u001b[0m\u001b[0;34m)\u001b[0m\u001b[0;34m\u001b[0m\u001b[0m\n\u001b[0m\u001b[1;32m    719\u001b[0m         \u001b[0;32mreturn\u001b[0m \u001b[0magent\u001b[0m\u001b[0;34m\u001b[0m\u001b[0m\n\u001b[1;32m    720\u001b[0m \u001b[0;34m\u001b[0m\u001b[0m\n", 
                        "\u001b[0;32m/gpfs/fs01/user/s7e3-47aedd6eaaec18-8cdc7af56667/.local/lib/python2.7/site-packages/docplex/cp/solver/solver_docloud.pyc\u001b[0m in \u001b[0;36m__init__\u001b[0;34m(self, model, params, context)\u001b[0m\n\u001b[1;32m     45\u001b[0m         \"\"\"\n\u001b[1;32m     46\u001b[0m         \u001b[0;32mif\u001b[0m \u001b[0;34m(\u001b[0m\u001b[0mcontext\u001b[0m\u001b[0;34m.\u001b[0m\u001b[0mkey\u001b[0m \u001b[0;32mis\u001b[0m \u001b[0mNone\u001b[0m\u001b[0;34m)\u001b[0m \u001b[0;32mor\u001b[0m \u001b[0;34m(\u001b[0m\u001b[0;34m' '\u001b[0m \u001b[0;32min\u001b[0m \u001b[0mcontext\u001b[0m\u001b[0;34m.\u001b[0m\u001b[0mkey\u001b[0m\u001b[0;34m)\u001b[0m\u001b[0;34m:\u001b[0m\u001b[0;34m\u001b[0m\u001b[0m\n\u001b[0;32m---> 47\u001b[0;31m             \u001b[0;32mraise\u001b[0m \u001b[0mCpoException\u001b[0m\u001b[0;34m(\u001b[0m\u001b[0;34m\"Your DOcplexcloud key has not been set\"\u001b[0m\u001b[0;34m)\u001b[0m\u001b[0;34m\u001b[0m\u001b[0m\n\u001b[0m\u001b[1;32m     48\u001b[0m         \u001b[0msuper\u001b[0m\u001b[0;34m(\u001b[0m\u001b[0mCpoSolverDocloud\u001b[0m\u001b[0;34m,\u001b[0m \u001b[0mself\u001b[0m\u001b[0;34m)\u001b[0m\u001b[0;34m.\u001b[0m\u001b[0m__init__\u001b[0m\u001b[0;34m(\u001b[0m\u001b[0mmodel\u001b[0m\u001b[0;34m,\u001b[0m \u001b[0mparams\u001b[0m\u001b[0;34m,\u001b[0m \u001b[0mcontext\u001b[0m\u001b[0;34m)\u001b[0m\u001b[0;34m\u001b[0m\u001b[0m\n\u001b[1;32m     49\u001b[0m         \u001b[0mself\u001b[0m\u001b[0;34m.\u001b[0m\u001b[0mlog_data\u001b[0m \u001b[0;34m=\u001b[0m \u001b[0;34m[\u001b[0m\u001b[0;34m]\u001b[0m\u001b[0;34m\u001b[0m\u001b[0m\n", 
                        "\u001b[0;31mCpoException\u001b[0m: Your DOcplexcloud key has not been set"
                    ], 
                    "evalue": "Your DOcplexcloud key has not been set", 
                    "ename": "CpoException", 
                    "output_type": "error"
                }
            ], 
            "cell_type": "code"
        }, 
        {
            "source": "<a id =\"Step-5:-Investigate-the-solution-and-then-run-an-example-analysis\"></a>\n## 5. Investigate the solution and then run an example analysis", 
            "metadata": {}, 
            "cell_type": "markdown"
        }, 
        {
            "source": "#### Print Solution", 
            "metadata": {}, 
            "cell_type": "markdown"
        }, 
        {
            "source": "if msol:\n    print(\"Solution: \")\n    from_slabs = [set([o.index for o in orders if msol[production_slab[o]]== s])for s in slabs]\n    slab_colors = [set([o.color for o in orders if o.index in from_slabs[s]])for s in slabs]\n    for s in slabs:\n        if len(from_slabs[s]) > 0:\n            print(\"Slab = \" + str(s))\n            print(\"\\tLoss = \" + str(loss[msol[slab_use[s]]]))\n            print(\"\\tcolors = \" + str(slab_colors[s]))\n            print(\"\\tOrders = \" + str(from_slabs[s]) + \"\\n\")\nelse:\n    print(\"No solution found\")", 
            "metadata": {}, 
            "execution_count": null, 
            "outputs": [], 
            "cell_type": "code"
        }, 
        {
            "source": "## Summary\n\nYou learned how to set up and use the IBM Decision Optimization CPLEX Modeling for Python to formulate a Constraint Programming model and solve it with IBM Decision Optimization on the cloud.", 
            "metadata": {}, 
            "cell_type": "markdown"
        }, 
        {
            "source": "##  References\n* [CPLEX Modeling for Python documentation](https://rawgit.com/IBMDecisionOptimization/docplex-doc/master/docs/index.html)\n* [Decision Optimization on Cloud](https://developer.ibm.com/docloud/)\n* [Decision Optimization documentation](https://datascience.ibm.com/docs/content/DO/DOinDSX.html)\n* For help with DOcplex, or to report a defect, go [here](https://developer.ibm.com/answers/smartspace/docloud).\n* Contact us at dofeedback@wwpdl.vnet.ibm.com", 
            "metadata": {}, 
            "cell_type": "markdown"
        }, 
        {
            "source": "<div class=\"alert alert-block alert-info\"> Note: To save resources and get the best performance please use the code below to stop the kernel before exiting your notebook.</div>", 
            "metadata": {}, 
            "cell_type": "markdown"
        }, 
        {
            "source": "%%javascript\nJupyter.notebook.session.delete();", 
            "metadata": {
                "collapsed": true
            }, 
            "execution_count": null, 
            "outputs": [], 
            "cell_type": "code"
        }, 
        {
            "source": "Copyright \u00a9 2017 IBM. IPLA licensed Sample Materials.", 
            "metadata": {}, 
            "cell_type": "markdown"
        }
    ], 
    "nbformat_minor": 1
}
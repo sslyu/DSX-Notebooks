{
    "nbformat": 4, 
    "metadata": {
        "language_info": {
            "pygments_lexer": "ipython3", 
            "name": "python", 
            "mimetype": "text/x-python", 
            "codemirror_mode": {
                "version": 3, 
                "name": "ipython"
            }, 
            "version": "3.5.2", 
            "file_extension": ".py", 
            "nbconvert_exporter": "python"
        }, 
        "gist_id": "6011986", 
        "kernelspec": {
            "language": "python", 
            "name": "python3-spark21", 
            "display_name": "Python 3.5 (Experimental) with Spark 2.1"
        }
    }, 
    "cells": [
        {
            "source": "# Incremental modeling with decision optimization\n\nThis tutorial includes everything you need to set up decision optimization engines, build a mathematical programming model, then incrementally modify it.\nYou will learn how to:\n- change coefficients in an expression\n- add terms in an expression\n- modify constraints and variables bounds\n- remove/add constraints\n- play with relaxations\n\n\nWhen you finish this tutorial, you'll have a foundational knowledge of _Prescriptive Analytics_.\n\n>This notebook is part of [Prescriptive Analytics for Python](https://rawgit.com/IBMDecisionOptimization/docplex-doc/master/docs/index.html).\n\n>This notebook requires a valid subscription to [Decision Optimization on Cloud](https://developer.ibm.com/docloud) or a local installation of CPLEX Optimizers.\n\nSome familiarity with Python is recommended. This notebook runs on Python 2.\n", 
            "metadata": {
                "render": true
            }, 
            "cell_type": "markdown"
        }, 
        {
            "source": " ## Table of contents \n\n-  [Describe the business problem](#Describe-the-business-problem:--Games-Scheduling-in-the-National-Football-League)\n*  [How decision optimization (prescriptive analytics) can help](#How--decision-optimization-can-help)\n*  [Use decision optimization](#Use-decision-optimization)\n    *  [Step 1: Download the library](#Step-1:-Download-the-library)\n    *  [Step 2: Set up the engines](#Step-2:-Set-up-the-prescriptive-engine)\n    *  [Step 3: Set up the prescriptive model](#Step-3:-Set-up-the-prescriptive-model)\n    *  [Step 4: Modify the model](#Step-4:-Modify-the-model)\n*  [Summary](#Summary)\n****\n   ", 
            "metadata": {}, 
            "cell_type": "markdown"
        }, 
        {
            "source": "## Describe the business problem:  Telephone production\n\nA possible descriptive model of the telephone production problem is as follows:\n* Decision variables:\n   * Number of desk phones produced (DeskProduction)\n   * Number of cellular phones produced (CellProduction)\n<p>Objective: Maximize profit</p>\n* Constraints:\n   * DeskProduction should be greater than or equal to 100.\n   * CellProduction should be greater than or equal to 100.\n   * The assembly time for DeskProduction plus the assembly time for CellProduction should not exceed 400 hours.\n   * The painting time for DeskProduction plus the painting time for CellProduction should not exceed 490 hours.\n\nThis is a type of discrete optimization problem that can be solved by using either **Integer Programming** (IP) or **Constraint Programming** (CP). \n\n>  **Integer Programming** is the class of problems defined as the optimization of a linear function, subject to linear constraints over integer variables. \n\n>  **Constraint Programming** problems generally have discrete decision variables, but the constraints can be logical, and the arithmetic expressions are not restricted to being linear. \n\nFor the purposes of this tutorial, we will illustrate a solution with mathematical programming (MP).  \n", 
            "metadata": {
                "render": true
            }, 
            "cell_type": "markdown"
        }, 
        {
            "source": "## How  decision optimization can help\n\nPrescriptive analytics (decision optimization) technology recommends actions that are based on desired outcomes. It considers specific scenarios, resources, and knowledge of past and current events. With this insight, your organization can make better decisions and have greater control over business outcomes.\n\nPrescriptive analytics is the next step on the path to insight-based actions. It creates value through synergy with predictive analytics, which analyzes data to predict future outcomes. Prescriptive analytics takes that insight to the next level by suggesting the optimal way to handle a future situation. Organizations that act fast in dynamic conditions and make superior decisions in uncertain environments gain a strong competitive advantage.\n\nWith prescriptive analytics, you can:\n\n* Automate the complex decisions and trade-offs to better manage your limited resources.\n    \n* Take advantage of a future opportunity or mitigate a future risk.\n    \n* Proactively update recommendations based on changing events.\n    \n* Meet operational goals, increase customer loyalty, prevent threats and fraud, and optimize business processes.\n", 
            "metadata": {
                "render": true
            }, 
            "cell_type": "markdown"
        }, 
        {
            "source": "## Use decision optimization", 
            "metadata": {}, 
            "cell_type": "markdown"
        }, 
        {
            "source": "### Step 1: Download the library\n\nRun the following code to install Decision Optimization CPLEX Modeling library.  The *DOcplex* library contains the two modeling packages, Mathematical Programming and Constraint Programming, referred to earlier.", 
            "metadata": {}, 
            "cell_type": "markdown"
        }, 
        {
            "source": "!pip install docplex --user --upgrade", 
            "metadata": {
                "scrolled": true
            }, 
            "execution_count": 1, 
            "outputs": [
                {
                    "name": "stdout", 
                    "output_type": "stream", 
                    "text": "Requirement already up-to-date: docplex in /gpfs/global_fs01/sym_shared/YPProdSpark/user/s7e3-47aedd6eaaec18-8cdc7af56667/.local/lib/python2.7/site-packages\nRequirement already up-to-date: docloud>=1.0.257 in /gpfs/global_fs01/sym_shared/YPProdSpark/user/s7e3-47aedd6eaaec18-8cdc7af56667/.local/lib/python2.7/site-packages (from docplex)\nRequirement already up-to-date: requests in /usr/local/src/bluemix_jupyter_bundle.v65/notebook/lib/python2.7/site-packages (from docplex)\nCollecting futures (from docplex)\n  Downloading futures-3.1.1-py2-none-any.whl\nCollecting six (from docplex)\n  Downloading six-1.11.0-py2.py3-none-any.whl\nCollecting enum34 (from docloud>=1.0.257->docplex)\n  Downloading enum34-1.1.6-py2-none-any.whl\nRequirement already up-to-date: urllib3<1.23,>=1.21.1 in /usr/local/src/bluemix_jupyter_bundle.v65/notebook/lib/python2.7/site-packages (from requests->docplex)\nRequirement already up-to-date: idna<2.7,>=2.5 in /usr/local/src/bluemix_jupyter_bundle.v65/notebook/lib/python2.7/site-packages (from requests->docplex)\nCollecting chardet<3.1.0,>=3.0.2 (from requests->docplex)\n  Downloading chardet-3.0.4-py2.py3-none-any.whl (133kB)\n\u001b[K    100% |\u2588\u2588\u2588\u2588\u2588\u2588\u2588\u2588\u2588\u2588\u2588\u2588\u2588\u2588\u2588\u2588\u2588\u2588\u2588\u2588\u2588\u2588\u2588\u2588\u2588\u2588\u2588\u2588\u2588\u2588\u2588\u2588| 143kB 6.3MB/s eta 0:00:01\n\u001b[?25hRequirement already up-to-date: certifi>=2017.4.17 in /usr/local/src/bluemix_jupyter_bundle.v65/notebook/lib/python2.7/site-packages (from requests->docplex)\nInstalling collected packages: futures, six, enum34, chardet\nSuccessfully installed chardet-3.0.4 enum34-1.1.6 futures-3.1.1 six-1.11.0\n"
                }
            ], 
            "cell_type": "code"
        }, 
        {
            "source": "import docplex.cp", 
            "metadata": {
                "collapsed": true
            }, 
            "execution_count": 2, 
            "outputs": [], 
            "cell_type": "code"
        }, 
        {
            "source": "### Step 2: Set up the prescriptive engine\n\nTo access the DOcplexcloud solve service, perform the following steps:\n\n* Subscribe to the [Decision Optimization on Cloud](https://developer.ibm.com/docloud) (DOcplexcloud) service.\n* Get the service base URL and personal API key.\n* Enter the URL and API key in the cell below, enclosed in quotation marks (\"\"), and run the cell. \n\n__Note:__ For a persistent setting, create a Python configuration file *docloud_config.py* in a location that is visible to PYTHONPATH.", 
            "metadata": {
                "render": true
            }, 
            "cell_type": "markdown"
        }, 
        {
            "source": "# Initialize IBM Decision Optimization credentials\nSVC_URL = \"ENTER YOUR URL HERE\" \nSVC_KEY = \"ENTER YOUR CREDENTIAL ID HERE\"", 
            "metadata": {
                "collapsed": true
            }, 
            "execution_count": 3, 
            "outputs": [], 
            "cell_type": "code"
        }, 
        {
            "source": "<div class=\"alert alert-block alert-info\"> Note: This notebook requires a full subscription to CPLEX 12.7.1 or above, that is with a valid docplexcloud url and key.</div> ", 
            "metadata": {}, 
            "cell_type": "markdown"
        }, 
        {
            "source": "### Step 3: Set up the prescriptive model", 
            "metadata": {
                "render": true
            }, 
            "cell_type": "markdown"
        }, 
        {
            "source": "Set the model parameters. The comments in the code provide details about the data.", 
            "metadata": {}, 
            "cell_type": "markdown"
        }, 
        {
            "source": "#### Writing a mathematical model\nConvert the descriptive model into a mathematical model:\n* Use the two decision variables DeskProduction and CellProduction\n* Use the data given in the problem description (remember to convert minutes to hours where appropriate)\n* Write the objective as a mathematical expression\n* Write the constraints as mathematical expressions (use \u201c=\u201d, \u201c<=\u201d, or \u201c>=\u201d, and name the constraints to describe their purpose)\n* Define the domain for the decision variables\n\n\n#### Telephone production: a mathematical model\nTo express the last two constraints, we model assembly time and painting time as linear combinations of the two productions, resulting in the following mathematical model:\n\n<code>maximize:  12 desk_production+20 cell_production\n\nsubject to:  \n   desk_production>=100  \n   cell_production>=100  \n   0.2 desk_production+0.4 cell_production<=400  \n   0.5 desk_production+0.4 cell_production<=490\n</code>", 
            "metadata": {}, 
            "cell_type": "markdown"
        }, 
        {
            "source": "# first import the Model class from docplex.mp\nfrom docplex.mp.model import Model\n\n# create one model instance, with a name\nm = Model(name='telephone_production')", 
            "metadata": {
                "collapsed": true
            }, 
            "execution_count": 4, 
            "outputs": [], 
            "cell_type": "code"
        }, 
        {
            "source": "The continuous variable `desk` represents the production of desk telephones.\nThe continuous variable `cell` represents the production of cell phones.", 
            "metadata": {
                "render": true
            }, 
            "cell_type": "markdown"
        }, 
        {
            "source": "# by default, all variables in Docplex have a lower bound of 0 and infinite upper bound\ndesk = m.integer_var(name='desk')\ncell = m.integer_var(name='cell')", 
            "metadata": {
                "collapsed": true
            }, 
            "execution_count": 5, 
            "outputs": [], 
            "cell_type": "code"
        }, 
        {
            "source": "m.maximize(12 * desk + 20 * cell)\n\n# write constraints\n# constraint #1: desk production is greater than 100\nm.add_constraint(desk >= 100, \"desk\")\n\n# constraint #2: cell production is greater than 100\nm.add_constraint(cell >= 100, \"cell\")\n\n# constraint #3: assembly time limit\nct_assembly = m.add_constraint( 0.2 * desk + 0.4 * cell <= 400, \"assembly_limit\")\n\n# constraint #4: paiting time limit\nct_painting = m.add_constraint( 0.5 * desk + 0.4 * cell <= 490, \"painting_limit\")", 
            "metadata": {
                "collapsed": true
            }, 
            "execution_count": 6, 
            "outputs": [], 
            "cell_type": "code"
        }, 
        {
            "source": "#### Solve with Decision Optimization solve service \n\nIf url and key are `None`, the Modeling layer will look for a local runtime, otherwise will use the credentials.\nLook at the documentation for a good understanding of the various solving/generation modes.\n\nIf you're using a Community Edition of CPLEX runtimes, depending on the size of the problem, the solve stage may fail and will need a paying subscription or product installation.\n\nYou will get the best solution found after ***n*** seconds, thanks to a time limit parameter.", 
            "metadata": {
                "render": true
            }, 
            "cell_type": "markdown"
        }, 
        {
            "source": "m.print_information()\nmsol = m.solve(url=SVC_URL, key=SVC_KEY)", 
            "metadata": {}, 
            "execution_count": 7, 
            "outputs": [
                {
                    "name": "stdout", 
                    "output_type": "stream", 
                    "text": "Model: telephone_production\n - number of variables: 2\n   - binary=0, integer=2, continuous=0\n - number of constraints: 4\n   - linear=4\n - parameters: defaults\n"
                }, 
                {
                    "traceback": [
                        "\u001b[0;31m\u001b[0m", 
                        "\u001b[0;31mDOcloudConnectorException\u001b[0mTraceback (most recent call last)", 
                        "\u001b[0;32m<ipython-input-7-a18e513ef9ca>\u001b[0m in \u001b[0;36m<module>\u001b[0;34m()\u001b[0m\n\u001b[1;32m      1\u001b[0m \u001b[0mm\u001b[0m\u001b[0;34m.\u001b[0m\u001b[0mprint_information\u001b[0m\u001b[0;34m(\u001b[0m\u001b[0;34m)\u001b[0m\u001b[0;34m\u001b[0m\u001b[0m\n\u001b[0;32m----> 2\u001b[0;31m \u001b[0mmsol\u001b[0m \u001b[0;34m=\u001b[0m \u001b[0mm\u001b[0m\u001b[0;34m.\u001b[0m\u001b[0msolve\u001b[0m\u001b[0;34m(\u001b[0m\u001b[0murl\u001b[0m\u001b[0;34m=\u001b[0m\u001b[0mSVC_URL\u001b[0m\u001b[0;34m,\u001b[0m \u001b[0mkey\u001b[0m\u001b[0;34m=\u001b[0m\u001b[0mSVC_KEY\u001b[0m\u001b[0;34m)\u001b[0m\u001b[0;34m\u001b[0m\u001b[0m\n\u001b[0m", 
                        "\u001b[0;32m/gpfs/fs01/user/s7e3-47aedd6eaaec18-8cdc7af56667/.local/lib/python2.7/site-packages/docplex/mp/model.pyc\u001b[0m in \u001b[0;36msolve\u001b[0;34m(self, **kwargs)\u001b[0m\n\u001b[1;32m   2903\u001b[0m             \u001b[0;32melif\u001b[0m \u001b[0mhave_credentials\u001b[0m\u001b[0;34m:\u001b[0m\u001b[0;34m\u001b[0m\u001b[0m\n\u001b[1;32m   2904\u001b[0m                 \u001b[0;31m# no context passed as argument, no Cplex installed, try model's own context\u001b[0m\u001b[0;34m\u001b[0m\u001b[0;34m\u001b[0m\u001b[0m\n\u001b[0;32m-> 2905\u001b[0;31m                 \u001b[0;32mreturn\u001b[0m \u001b[0mself\u001b[0m\u001b[0;34m.\u001b[0m\u001b[0m_solve_cloud\u001b[0m\u001b[0;34m(\u001b[0m\u001b[0mcontext\u001b[0m\u001b[0;34m)\u001b[0m\u001b[0;34m\u001b[0m\u001b[0m\n\u001b[0m\u001b[1;32m   2906\u001b[0m             \u001b[0;32melse\u001b[0m\u001b[0;34m:\u001b[0m\u001b[0;34m\u001b[0m\u001b[0m\n\u001b[1;32m   2907\u001b[0m                 \u001b[0;31m# no way to solve.. really\u001b[0m\u001b[0;34m\u001b[0m\u001b[0;34m\u001b[0m\u001b[0m\n", 
                        "\u001b[0;32m/gpfs/fs01/user/s7e3-47aedd6eaaec18-8cdc7af56667/.local/lib/python2.7/site-packages/docplex/mp/model.pyc\u001b[0m in \u001b[0;36m_solve_cloud\u001b[0;34m(self, context)\u001b[0m\n\u001b[1;32m   3071\u001b[0m         \u001b[0mself\u001b[0m\u001b[0;34m.\u001b[0m\u001b[0mnotify_start_solve\u001b[0m\u001b[0;34m(\u001b[0m\u001b[0;34m)\u001b[0m\u001b[0;34m\u001b[0m\u001b[0m\n\u001b[1;32m   3072\u001b[0m         \u001b[0mself\u001b[0m\u001b[0;34m.\u001b[0m\u001b[0m_fire_start_solve_listeners\u001b[0m\u001b[0;34m(\u001b[0m\u001b[0;34m)\u001b[0m\u001b[0;34m\u001b[0m\u001b[0m\n\u001b[0;32m-> 3073\u001b[0;31m         \u001b[0mnew_solution\u001b[0m \u001b[0;34m=\u001b[0m \u001b[0mdocloud_engine\u001b[0m\u001b[0;34m.\u001b[0m\u001b[0msolve\u001b[0m\u001b[0;34m(\u001b[0m\u001b[0mself\u001b[0m\u001b[0;34m,\u001b[0m \u001b[0mparameters\u001b[0m\u001b[0;34m=\u001b[0m\u001b[0mparameters\u001b[0m\u001b[0;34m)\u001b[0m\u001b[0;34m\u001b[0m\u001b[0m\n\u001b[0m\u001b[1;32m   3074\u001b[0m         \u001b[0mself\u001b[0m\u001b[0;34m.\u001b[0m\u001b[0m_set_solution\u001b[0m\u001b[0;34m(\u001b[0m\u001b[0mnew_solution\u001b[0m\u001b[0;34m)\u001b[0m\u001b[0;34m\u001b[0m\u001b[0m\n\u001b[1;32m   3075\u001b[0m         \u001b[0mself\u001b[0m\u001b[0;34m.\u001b[0m\u001b[0m_solve_details\u001b[0m \u001b[0;34m=\u001b[0m \u001b[0mdocloud_engine\u001b[0m\u001b[0;34m.\u001b[0m\u001b[0mget_solve_details\u001b[0m\u001b[0;34m(\u001b[0m\u001b[0;34m)\u001b[0m\u001b[0;34m\u001b[0m\u001b[0m\n", 
                        "\u001b[0;32m/gpfs/fs01/user/s7e3-47aedd6eaaec18-8cdc7af56667/.local/lib/python2.7/site-packages/docplex/mp/docloud_engine.pyc\u001b[0m in \u001b[0;36msolve\u001b[0;34m(self, mdl, parameters)\u001b[0m\n\u001b[1;32m    557\u001b[0m                                     \u001b[0mgzip\u001b[0m\u001b[0;34m=\u001b[0m\u001b[0;32mnot\u001b[0m \u001b[0mself\u001b[0m\u001b[0;34m.\u001b[0m\u001b[0m_exchange_format\u001b[0m\u001b[0;34m.\u001b[0m\u001b[0mis_binary\u001b[0m\u001b[0;34m,\u001b[0m\u001b[0;34m\u001b[0m\u001b[0m\n\u001b[1;32m    558\u001b[0m                                     \u001b[0minfo_callback\u001b[0m\u001b[0;34m=\u001b[0m\u001b[0mnotify_info\u001b[0m\u001b[0;34m,\u001b[0m\u001b[0;34m\u001b[0m\u001b[0m\n\u001b[0;32m--> 559\u001b[0;31m                                     info_to_monitor={'jobid', 'progress'})\n\u001b[0m\u001b[1;32m    560\u001b[0m \u001b[0;34m\u001b[0m\u001b[0m\n\u001b[1;32m    561\u001b[0m         \u001b[0;31m# --- cplex solve details\u001b[0m\u001b[0;34m\u001b[0m\u001b[0;34m\u001b[0m\u001b[0m\n", 
                        "\u001b[0;32m/gpfs/fs01/user/s7e3-47aedd6eaaec18-8cdc7af56667/.local/lib/python2.7/site-packages/docplex/mp/docloud_connector.pyc\u001b[0m in \u001b[0;36msubmit_model_data\u001b[0;34m(self, attachments, gzip, info_callback, info_to_monitor)\u001b[0m\n\u001b[1;32m    141\u001b[0m         \u001b[0mparts\u001b[0m \u001b[0;34m=\u001b[0m \u001b[0murlparse\u001b[0m\u001b[0;34m(\u001b[0m\u001b[0mself\u001b[0m\u001b[0;34m.\u001b[0m\u001b[0mdocloud_context\u001b[0m\u001b[0;34m.\u001b[0m\u001b[0murl\u001b[0m\u001b[0;34m)\u001b[0m\u001b[0;34m\u001b[0m\u001b[0m\n\u001b[1;32m    142\u001b[0m         \u001b[0;32mif\u001b[0m \u001b[0;32mnot\u001b[0m \u001b[0mparts\u001b[0m\u001b[0;34m.\u001b[0m\u001b[0mscheme\u001b[0m\u001b[0;34m:\u001b[0m\u001b[0;34m\u001b[0m\u001b[0m\n\u001b[0;32m--> 143\u001b[0;31m             \u001b[0;32mraise\u001b[0m \u001b[0mDOcloudConnectorException\u001b[0m\u001b[0;34m(\u001b[0m\u001b[0;34m\"Malformed URL: '%s': No schema supplied.\"\u001b[0m \u001b[0;34m%\u001b[0m \u001b[0mself\u001b[0m\u001b[0;34m.\u001b[0m\u001b[0mdocloud_context\u001b[0m\u001b[0;34m.\u001b[0m\u001b[0murl\u001b[0m\u001b[0;34m)\u001b[0m\u001b[0;34m\u001b[0m\u001b[0m\n\u001b[0m\u001b[1;32m    144\u001b[0m \u001b[0;34m\u001b[0m\u001b[0m\n\u001b[1;32m    145\u001b[0m         \u001b[0mproxies\u001b[0m \u001b[0;34m=\u001b[0m \u001b[0mself\u001b[0m\u001b[0;34m.\u001b[0m\u001b[0mdocloud_context\u001b[0m\u001b[0;34m.\u001b[0m\u001b[0mproxies\u001b[0m\u001b[0;34m\u001b[0m\u001b[0m\n", 
                        "\u001b[0;31mDOcloudConnectorException\u001b[0m: Malformed URL: 'ENTER YOUR URL HERE': No schema supplied."
                    ], 
                    "evalue": "Malformed URL: 'ENTER YOUR URL HERE': No schema supplied.", 
                    "ename": "DOcloudConnectorException", 
                    "output_type": "error"
                }
            ], 
            "cell_type": "code"
        }, 
        {
            "source": "assert msol is not None, \"model can't solve\"\nm.print_solution()", 
            "metadata": {}, 
            "execution_count": 8, 
            "outputs": [
                {
                    "traceback": [
                        "\u001b[0;31m\u001b[0m", 
                        "\u001b[0;31mNameError\u001b[0mTraceback (most recent call last)", 
                        "\u001b[0;32m<ipython-input-8-2ccb30911c7c>\u001b[0m in \u001b[0;36m<module>\u001b[0;34m()\u001b[0m\n\u001b[0;32m----> 1\u001b[0;31m \u001b[0;32massert\u001b[0m \u001b[0mmsol\u001b[0m \u001b[0;32mis\u001b[0m \u001b[0;32mnot\u001b[0m \u001b[0mNone\u001b[0m\u001b[0;34m,\u001b[0m \u001b[0;34m\"model can't solve\"\u001b[0m\u001b[0;34m\u001b[0m\u001b[0m\n\u001b[0m\u001b[1;32m      2\u001b[0m \u001b[0mm\u001b[0m\u001b[0;34m.\u001b[0m\u001b[0mprint_solution\u001b[0m\u001b[0;34m(\u001b[0m\u001b[0;34m)\u001b[0m\u001b[0;34m\u001b[0m\u001b[0m\n", 
                        "\u001b[0;31mNameError\u001b[0m: name 'msol' is not defined"
                    ], 
                    "evalue": "name 'msol' is not defined", 
                    "ename": "NameError", 
                    "output_type": "error"
                }
            ], 
            "cell_type": "code"
        }, 
        {
            "source": "### Step 4: Modify the model", 
            "metadata": {
                "render": true
            }, 
            "cell_type": "markdown"
        }, 
        {
            "source": "#### Modify constraints and variables bounds", 
            "metadata": {}, 
            "cell_type": "markdown"
        }, 
        {
            "source": "The model object provides getters to retrieve variables and constraints by name:\n* get_var_by_name\n* get_constraint_by_name\n<br>\n\nThe variable and constraint objects both provide properties to access the right hand side (rhs) and left hand side (lhs).\nWhen you modify a rhs or lhs of a variable, you will need to give a number.\nWhen you modify a rhs or lhs of a constraint, you can give a number or an expression based on variables.\n\nLet's say we want to build 2000 cells and 1000 desks maximum.\n\nAnd let's say we want to increase the production of both of them from 100 to 350:", 
            "metadata": {}, 
            "cell_type": "markdown"
        }, 
        {
            "source": "# Access by name\nm.get_var_by_name(\"desk\").ub = 2000\n# acess via the object\ncell.ub = 1000\n\n\nm.get_constraint_by_name(\"desk\").rhs = 350\nm.get_constraint_by_name(\"cell\").rhs = 350", 
            "metadata": {
                "collapsed": true
            }, 
            "execution_count": 9, 
            "outputs": [], 
            "cell_type": "code"
        }, 
        {
            "source": "msol = m.solve(url=SVC_URL, key=SVC_KEY)\nassert msol is not None, \"model can't solve\"\nm.print_solution()", 
            "metadata": {}, 
            "execution_count": 10, 
            "outputs": [
                {
                    "traceback": [
                        "\u001b[0;31m\u001b[0m", 
                        "\u001b[0;31mDOcloudConnectorException\u001b[0mTraceback (most recent call last)", 
                        "\u001b[0;32m<ipython-input-10-0d69b5884f7d>\u001b[0m in \u001b[0;36m<module>\u001b[0;34m()\u001b[0m\n\u001b[0;32m----> 1\u001b[0;31m \u001b[0mmsol\u001b[0m \u001b[0;34m=\u001b[0m \u001b[0mm\u001b[0m\u001b[0;34m.\u001b[0m\u001b[0msolve\u001b[0m\u001b[0;34m(\u001b[0m\u001b[0murl\u001b[0m\u001b[0;34m=\u001b[0m\u001b[0mSVC_URL\u001b[0m\u001b[0;34m,\u001b[0m \u001b[0mkey\u001b[0m\u001b[0;34m=\u001b[0m\u001b[0mSVC_KEY\u001b[0m\u001b[0;34m)\u001b[0m\u001b[0;34m\u001b[0m\u001b[0m\n\u001b[0m\u001b[1;32m      2\u001b[0m \u001b[0;32massert\u001b[0m \u001b[0mmsol\u001b[0m \u001b[0;32mis\u001b[0m \u001b[0;32mnot\u001b[0m \u001b[0mNone\u001b[0m\u001b[0;34m,\u001b[0m \u001b[0;34m\"model can't solve\"\u001b[0m\u001b[0;34m\u001b[0m\u001b[0m\n\u001b[1;32m      3\u001b[0m \u001b[0mm\u001b[0m\u001b[0;34m.\u001b[0m\u001b[0mprint_solution\u001b[0m\u001b[0;34m(\u001b[0m\u001b[0;34m)\u001b[0m\u001b[0;34m\u001b[0m\u001b[0m\n", 
                        "\u001b[0;32m/gpfs/fs01/user/s7e3-47aedd6eaaec18-8cdc7af56667/.local/lib/python2.7/site-packages/docplex/mp/model.pyc\u001b[0m in \u001b[0;36msolve\u001b[0;34m(self, **kwargs)\u001b[0m\n\u001b[1;32m   2903\u001b[0m             \u001b[0;32melif\u001b[0m \u001b[0mhave_credentials\u001b[0m\u001b[0;34m:\u001b[0m\u001b[0;34m\u001b[0m\u001b[0m\n\u001b[1;32m   2904\u001b[0m                 \u001b[0;31m# no context passed as argument, no Cplex installed, try model's own context\u001b[0m\u001b[0;34m\u001b[0m\u001b[0;34m\u001b[0m\u001b[0m\n\u001b[0;32m-> 2905\u001b[0;31m                 \u001b[0;32mreturn\u001b[0m \u001b[0mself\u001b[0m\u001b[0;34m.\u001b[0m\u001b[0m_solve_cloud\u001b[0m\u001b[0;34m(\u001b[0m\u001b[0mcontext\u001b[0m\u001b[0;34m)\u001b[0m\u001b[0;34m\u001b[0m\u001b[0m\n\u001b[0m\u001b[1;32m   2906\u001b[0m             \u001b[0;32melse\u001b[0m\u001b[0;34m:\u001b[0m\u001b[0;34m\u001b[0m\u001b[0m\n\u001b[1;32m   2907\u001b[0m                 \u001b[0;31m# no way to solve.. really\u001b[0m\u001b[0;34m\u001b[0m\u001b[0;34m\u001b[0m\u001b[0m\n", 
                        "\u001b[0;32m/gpfs/fs01/user/s7e3-47aedd6eaaec18-8cdc7af56667/.local/lib/python2.7/site-packages/docplex/mp/model.pyc\u001b[0m in \u001b[0;36m_solve_cloud\u001b[0;34m(self, context)\u001b[0m\n\u001b[1;32m   3071\u001b[0m         \u001b[0mself\u001b[0m\u001b[0;34m.\u001b[0m\u001b[0mnotify_start_solve\u001b[0m\u001b[0;34m(\u001b[0m\u001b[0;34m)\u001b[0m\u001b[0;34m\u001b[0m\u001b[0m\n\u001b[1;32m   3072\u001b[0m         \u001b[0mself\u001b[0m\u001b[0;34m.\u001b[0m\u001b[0m_fire_start_solve_listeners\u001b[0m\u001b[0;34m(\u001b[0m\u001b[0;34m)\u001b[0m\u001b[0;34m\u001b[0m\u001b[0m\n\u001b[0;32m-> 3073\u001b[0;31m         \u001b[0mnew_solution\u001b[0m \u001b[0;34m=\u001b[0m \u001b[0mdocloud_engine\u001b[0m\u001b[0;34m.\u001b[0m\u001b[0msolve\u001b[0m\u001b[0;34m(\u001b[0m\u001b[0mself\u001b[0m\u001b[0;34m,\u001b[0m \u001b[0mparameters\u001b[0m\u001b[0;34m=\u001b[0m\u001b[0mparameters\u001b[0m\u001b[0;34m)\u001b[0m\u001b[0;34m\u001b[0m\u001b[0m\n\u001b[0m\u001b[1;32m   3074\u001b[0m         \u001b[0mself\u001b[0m\u001b[0;34m.\u001b[0m\u001b[0m_set_solution\u001b[0m\u001b[0;34m(\u001b[0m\u001b[0mnew_solution\u001b[0m\u001b[0;34m)\u001b[0m\u001b[0;34m\u001b[0m\u001b[0m\n\u001b[1;32m   3075\u001b[0m         \u001b[0mself\u001b[0m\u001b[0;34m.\u001b[0m\u001b[0m_solve_details\u001b[0m \u001b[0;34m=\u001b[0m \u001b[0mdocloud_engine\u001b[0m\u001b[0;34m.\u001b[0m\u001b[0mget_solve_details\u001b[0m\u001b[0;34m(\u001b[0m\u001b[0;34m)\u001b[0m\u001b[0;34m\u001b[0m\u001b[0m\n", 
                        "\u001b[0;32m/gpfs/fs01/user/s7e3-47aedd6eaaec18-8cdc7af56667/.local/lib/python2.7/site-packages/docplex/mp/docloud_engine.pyc\u001b[0m in \u001b[0;36msolve\u001b[0;34m(self, mdl, parameters)\u001b[0m\n\u001b[1;32m    557\u001b[0m                                     \u001b[0mgzip\u001b[0m\u001b[0;34m=\u001b[0m\u001b[0;32mnot\u001b[0m \u001b[0mself\u001b[0m\u001b[0;34m.\u001b[0m\u001b[0m_exchange_format\u001b[0m\u001b[0;34m.\u001b[0m\u001b[0mis_binary\u001b[0m\u001b[0;34m,\u001b[0m\u001b[0;34m\u001b[0m\u001b[0m\n\u001b[1;32m    558\u001b[0m                                     \u001b[0minfo_callback\u001b[0m\u001b[0;34m=\u001b[0m\u001b[0mnotify_info\u001b[0m\u001b[0;34m,\u001b[0m\u001b[0;34m\u001b[0m\u001b[0m\n\u001b[0;32m--> 559\u001b[0;31m                                     info_to_monitor={'jobid', 'progress'})\n\u001b[0m\u001b[1;32m    560\u001b[0m \u001b[0;34m\u001b[0m\u001b[0m\n\u001b[1;32m    561\u001b[0m         \u001b[0;31m# --- cplex solve details\u001b[0m\u001b[0;34m\u001b[0m\u001b[0;34m\u001b[0m\u001b[0m\n", 
                        "\u001b[0;32m/gpfs/fs01/user/s7e3-47aedd6eaaec18-8cdc7af56667/.local/lib/python2.7/site-packages/docplex/mp/docloud_connector.pyc\u001b[0m in \u001b[0;36msubmit_model_data\u001b[0;34m(self, attachments, gzip, info_callback, info_to_monitor)\u001b[0m\n\u001b[1;32m    141\u001b[0m         \u001b[0mparts\u001b[0m \u001b[0;34m=\u001b[0m \u001b[0murlparse\u001b[0m\u001b[0;34m(\u001b[0m\u001b[0mself\u001b[0m\u001b[0;34m.\u001b[0m\u001b[0mdocloud_context\u001b[0m\u001b[0;34m.\u001b[0m\u001b[0murl\u001b[0m\u001b[0;34m)\u001b[0m\u001b[0;34m\u001b[0m\u001b[0m\n\u001b[1;32m    142\u001b[0m         \u001b[0;32mif\u001b[0m \u001b[0;32mnot\u001b[0m \u001b[0mparts\u001b[0m\u001b[0;34m.\u001b[0m\u001b[0mscheme\u001b[0m\u001b[0;34m:\u001b[0m\u001b[0;34m\u001b[0m\u001b[0m\n\u001b[0;32m--> 143\u001b[0;31m             \u001b[0;32mraise\u001b[0m \u001b[0mDOcloudConnectorException\u001b[0m\u001b[0;34m(\u001b[0m\u001b[0;34m\"Malformed URL: '%s': No schema supplied.\"\u001b[0m \u001b[0;34m%\u001b[0m \u001b[0mself\u001b[0m\u001b[0;34m.\u001b[0m\u001b[0mdocloud_context\u001b[0m\u001b[0;34m.\u001b[0m\u001b[0murl\u001b[0m\u001b[0;34m)\u001b[0m\u001b[0;34m\u001b[0m\u001b[0m\n\u001b[0m\u001b[1;32m    144\u001b[0m \u001b[0;34m\u001b[0m\u001b[0m\n\u001b[1;32m    145\u001b[0m         \u001b[0mproxies\u001b[0m \u001b[0;34m=\u001b[0m \u001b[0mself\u001b[0m\u001b[0;34m.\u001b[0m\u001b[0mdocloud_context\u001b[0m\u001b[0;34m.\u001b[0m\u001b[0mproxies\u001b[0m\u001b[0;34m\u001b[0m\u001b[0m\n", 
                        "\u001b[0;31mDOcloudConnectorException\u001b[0m: Malformed URL: 'ENTER YOUR URL HERE': No schema supplied."
                    ], 
                    "evalue": "Malformed URL: 'ENTER YOUR URL HERE': No schema supplied.", 
                    "ename": "DOcloudConnectorException", 
                    "output_type": "error"
                }
            ], 
            "cell_type": "code"
        }, 
        {
            "source": "The production plan has been updated accordingly to our small changes.", 
            "metadata": {}, 
            "cell_type": "markdown"
        }, 
        {
            "source": "#### Modify expressions", 
            "metadata": {}, 
            "cell_type": "markdown"
        }, 
        {
            "source": "We now want to introduce a new type of product: the \"hybrid\" telephone.", 
            "metadata": {}, 
            "cell_type": "markdown"
        }, 
        {
            "source": "hybrid = m.integer_var(name='hybrid')", 
            "metadata": {
                "collapsed": true
            }, 
            "execution_count": 11, 
            "outputs": [], 
            "cell_type": "code"
        }, 
        {
            "source": "We need to:\n- introduce it in the objective\n- introduce it in the existing painting and assembly time constraints \n- add a new constraint for its production to produce at least 350 of them", 
            "metadata": {}, 
            "cell_type": "markdown"
        }, 
        {
            "source": "m.add_constraint(hybrid >= 350)\n;", 
            "metadata": {}, 
            "execution_count": 12, 
            "outputs": [
                {
                    "execution_count": 12, 
                    "data": {
                        "text/plain": "''"
                    }, 
                    "metadata": {}, 
                    "output_type": "execute_result"
                }
            ], 
            "cell_type": "code"
        }, 
        {
            "source": "The objective will move from\n<code>\nmaximize:  12 desk_production+20 cell_production\n</code>\nto\n<code>\nmaximize:  12 desk_production+20 cell_production + 10 hybrid_prodction\n</code>", 
            "metadata": {}, 
            "cell_type": "markdown"
        }, 
        {
            "source": "m.get_objective_expr().add_term(hybrid, 10)\n;", 
            "metadata": {}, 
            "execution_count": 13, 
            "outputs": [
                {
                    "execution_count": 13, 
                    "data": {
                        "text/plain": "''"
                    }, 
                    "metadata": {}, 
                    "output_type": "execute_result"
                }
            ], 
            "cell_type": "code"
        }, 
        {
            "source": "The time constraints will be updated from \n<code>\n0.2 desk_production+0.4 cell_production<=400\n0.5 desk_production+0.4 cell_production<=490\n</code>\nto\n<code>\n0.2 desk_production+0.4 cell_production + 0.2 hybrid_production<=400\n0.5 desk_production+0.4 cell_production + 0.2 hybrid_production<=490\n</code>", 
            "metadata": {}, 
            "cell_type": "markdown"
        }, 
        {
            "source": "When you add a constraint to a model, its object is returned to you by the method __add_constraint__.\nIf you don't have it, you can access it via its name.", 
            "metadata": {}, 
            "cell_type": "markdown"
        }, 
        {
            "source": "m.get_constraint_by_name(\"assembly_limit\").lhs.add_term(hybrid, 0.2)\nct_painting.lhs.add_term(hybrid, 0.2)\n;", 
            "metadata": {}, 
            "execution_count": 14, 
            "outputs": [
                {
                    "execution_count": 14, 
                    "data": {
                        "text/plain": "''"
                    }, 
                    "metadata": {}, 
                    "output_type": "execute_result"
                }
            ], 
            "cell_type": "code"
        }, 
        {
            "source": "We can now compute the new production plan for our 3 products.", 
            "metadata": {}, 
            "cell_type": "markdown"
        }, 
        {
            "source": "msol = m.solve(url=SVC_URL, key=SVC_KEY)\nassert msol is not None, \"model can't solve\"\nm.print_solution()", 
            "metadata": {}, 
            "execution_count": 15, 
            "outputs": [
                {
                    "traceback": [
                        "\u001b[0;31m\u001b[0m", 
                        "\u001b[0;31mDOcloudConnectorException\u001b[0mTraceback (most recent call last)", 
                        "\u001b[0;32m<ipython-input-15-0d69b5884f7d>\u001b[0m in \u001b[0;36m<module>\u001b[0;34m()\u001b[0m\n\u001b[0;32m----> 1\u001b[0;31m \u001b[0mmsol\u001b[0m \u001b[0;34m=\u001b[0m \u001b[0mm\u001b[0m\u001b[0;34m.\u001b[0m\u001b[0msolve\u001b[0m\u001b[0;34m(\u001b[0m\u001b[0murl\u001b[0m\u001b[0;34m=\u001b[0m\u001b[0mSVC_URL\u001b[0m\u001b[0;34m,\u001b[0m \u001b[0mkey\u001b[0m\u001b[0;34m=\u001b[0m\u001b[0mSVC_KEY\u001b[0m\u001b[0;34m)\u001b[0m\u001b[0;34m\u001b[0m\u001b[0m\n\u001b[0m\u001b[1;32m      2\u001b[0m \u001b[0;32massert\u001b[0m \u001b[0mmsol\u001b[0m \u001b[0;32mis\u001b[0m \u001b[0;32mnot\u001b[0m \u001b[0mNone\u001b[0m\u001b[0;34m,\u001b[0m \u001b[0;34m\"model can't solve\"\u001b[0m\u001b[0;34m\u001b[0m\u001b[0m\n\u001b[1;32m      3\u001b[0m \u001b[0mm\u001b[0m\u001b[0;34m.\u001b[0m\u001b[0mprint_solution\u001b[0m\u001b[0;34m(\u001b[0m\u001b[0;34m)\u001b[0m\u001b[0;34m\u001b[0m\u001b[0m\n", 
                        "\u001b[0;32m/gpfs/fs01/user/s7e3-47aedd6eaaec18-8cdc7af56667/.local/lib/python2.7/site-packages/docplex/mp/model.pyc\u001b[0m in \u001b[0;36msolve\u001b[0;34m(self, **kwargs)\u001b[0m\n\u001b[1;32m   2903\u001b[0m             \u001b[0;32melif\u001b[0m \u001b[0mhave_credentials\u001b[0m\u001b[0;34m:\u001b[0m\u001b[0;34m\u001b[0m\u001b[0m\n\u001b[1;32m   2904\u001b[0m                 \u001b[0;31m# no context passed as argument, no Cplex installed, try model's own context\u001b[0m\u001b[0;34m\u001b[0m\u001b[0;34m\u001b[0m\u001b[0m\n\u001b[0;32m-> 2905\u001b[0;31m                 \u001b[0;32mreturn\u001b[0m \u001b[0mself\u001b[0m\u001b[0;34m.\u001b[0m\u001b[0m_solve_cloud\u001b[0m\u001b[0;34m(\u001b[0m\u001b[0mcontext\u001b[0m\u001b[0;34m)\u001b[0m\u001b[0;34m\u001b[0m\u001b[0m\n\u001b[0m\u001b[1;32m   2906\u001b[0m             \u001b[0;32melse\u001b[0m\u001b[0;34m:\u001b[0m\u001b[0;34m\u001b[0m\u001b[0m\n\u001b[1;32m   2907\u001b[0m                 \u001b[0;31m# no way to solve.. really\u001b[0m\u001b[0;34m\u001b[0m\u001b[0;34m\u001b[0m\u001b[0m\n", 
                        "\u001b[0;32m/gpfs/fs01/user/s7e3-47aedd6eaaec18-8cdc7af56667/.local/lib/python2.7/site-packages/docplex/mp/model.pyc\u001b[0m in \u001b[0;36m_solve_cloud\u001b[0;34m(self, context)\u001b[0m\n\u001b[1;32m   3071\u001b[0m         \u001b[0mself\u001b[0m\u001b[0;34m.\u001b[0m\u001b[0mnotify_start_solve\u001b[0m\u001b[0;34m(\u001b[0m\u001b[0;34m)\u001b[0m\u001b[0;34m\u001b[0m\u001b[0m\n\u001b[1;32m   3072\u001b[0m         \u001b[0mself\u001b[0m\u001b[0;34m.\u001b[0m\u001b[0m_fire_start_solve_listeners\u001b[0m\u001b[0;34m(\u001b[0m\u001b[0;34m)\u001b[0m\u001b[0;34m\u001b[0m\u001b[0m\n\u001b[0;32m-> 3073\u001b[0;31m         \u001b[0mnew_solution\u001b[0m \u001b[0;34m=\u001b[0m \u001b[0mdocloud_engine\u001b[0m\u001b[0;34m.\u001b[0m\u001b[0msolve\u001b[0m\u001b[0;34m(\u001b[0m\u001b[0mself\u001b[0m\u001b[0;34m,\u001b[0m \u001b[0mparameters\u001b[0m\u001b[0;34m=\u001b[0m\u001b[0mparameters\u001b[0m\u001b[0;34m)\u001b[0m\u001b[0;34m\u001b[0m\u001b[0m\n\u001b[0m\u001b[1;32m   3074\u001b[0m         \u001b[0mself\u001b[0m\u001b[0;34m.\u001b[0m\u001b[0m_set_solution\u001b[0m\u001b[0;34m(\u001b[0m\u001b[0mnew_solution\u001b[0m\u001b[0;34m)\u001b[0m\u001b[0;34m\u001b[0m\u001b[0m\n\u001b[1;32m   3075\u001b[0m         \u001b[0mself\u001b[0m\u001b[0;34m.\u001b[0m\u001b[0m_solve_details\u001b[0m \u001b[0;34m=\u001b[0m \u001b[0mdocloud_engine\u001b[0m\u001b[0;34m.\u001b[0m\u001b[0mget_solve_details\u001b[0m\u001b[0;34m(\u001b[0m\u001b[0;34m)\u001b[0m\u001b[0;34m\u001b[0m\u001b[0m\n", 
                        "\u001b[0;32m/gpfs/fs01/user/s7e3-47aedd6eaaec18-8cdc7af56667/.local/lib/python2.7/site-packages/docplex/mp/docloud_engine.pyc\u001b[0m in \u001b[0;36msolve\u001b[0;34m(self, mdl, parameters)\u001b[0m\n\u001b[1;32m    557\u001b[0m                                     \u001b[0mgzip\u001b[0m\u001b[0;34m=\u001b[0m\u001b[0;32mnot\u001b[0m \u001b[0mself\u001b[0m\u001b[0;34m.\u001b[0m\u001b[0m_exchange_format\u001b[0m\u001b[0;34m.\u001b[0m\u001b[0mis_binary\u001b[0m\u001b[0;34m,\u001b[0m\u001b[0;34m\u001b[0m\u001b[0m\n\u001b[1;32m    558\u001b[0m                                     \u001b[0minfo_callback\u001b[0m\u001b[0;34m=\u001b[0m\u001b[0mnotify_info\u001b[0m\u001b[0;34m,\u001b[0m\u001b[0;34m\u001b[0m\u001b[0m\n\u001b[0;32m--> 559\u001b[0;31m                                     info_to_monitor={'jobid', 'progress'})\n\u001b[0m\u001b[1;32m    560\u001b[0m \u001b[0;34m\u001b[0m\u001b[0m\n\u001b[1;32m    561\u001b[0m         \u001b[0;31m# --- cplex solve details\u001b[0m\u001b[0;34m\u001b[0m\u001b[0;34m\u001b[0m\u001b[0m\n", 
                        "\u001b[0;32m/gpfs/fs01/user/s7e3-47aedd6eaaec18-8cdc7af56667/.local/lib/python2.7/site-packages/docplex/mp/docloud_connector.pyc\u001b[0m in \u001b[0;36msubmit_model_data\u001b[0;34m(self, attachments, gzip, info_callback, info_to_monitor)\u001b[0m\n\u001b[1;32m    141\u001b[0m         \u001b[0mparts\u001b[0m \u001b[0;34m=\u001b[0m \u001b[0murlparse\u001b[0m\u001b[0;34m(\u001b[0m\u001b[0mself\u001b[0m\u001b[0;34m.\u001b[0m\u001b[0mdocloud_context\u001b[0m\u001b[0;34m.\u001b[0m\u001b[0murl\u001b[0m\u001b[0;34m)\u001b[0m\u001b[0;34m\u001b[0m\u001b[0m\n\u001b[1;32m    142\u001b[0m         \u001b[0;32mif\u001b[0m \u001b[0;32mnot\u001b[0m \u001b[0mparts\u001b[0m\u001b[0;34m.\u001b[0m\u001b[0mscheme\u001b[0m\u001b[0;34m:\u001b[0m\u001b[0;34m\u001b[0m\u001b[0m\n\u001b[0;32m--> 143\u001b[0;31m             \u001b[0;32mraise\u001b[0m \u001b[0mDOcloudConnectorException\u001b[0m\u001b[0;34m(\u001b[0m\u001b[0;34m\"Malformed URL: '%s': No schema supplied.\"\u001b[0m \u001b[0;34m%\u001b[0m \u001b[0mself\u001b[0m\u001b[0;34m.\u001b[0m\u001b[0mdocloud_context\u001b[0m\u001b[0;34m.\u001b[0m\u001b[0murl\u001b[0m\u001b[0;34m)\u001b[0m\u001b[0;34m\u001b[0m\u001b[0m\n\u001b[0m\u001b[1;32m    144\u001b[0m \u001b[0;34m\u001b[0m\u001b[0m\n\u001b[1;32m    145\u001b[0m         \u001b[0mproxies\u001b[0m \u001b[0;34m=\u001b[0m \u001b[0mself\u001b[0m\u001b[0;34m.\u001b[0m\u001b[0mdocloud_context\u001b[0m\u001b[0;34m.\u001b[0m\u001b[0mproxies\u001b[0m\u001b[0;34m\u001b[0m\u001b[0m\n", 
                        "\u001b[0;31mDOcloudConnectorException\u001b[0m: Malformed URL: 'ENTER YOUR URL HERE': No schema supplied."
                    ], 
                    "evalue": "Malformed URL: 'ENTER YOUR URL HERE': No schema supplied.", 
                    "ename": "DOcloudConnectorException", 
                    "output_type": "error"
                }
            ], 
            "cell_type": "code"
        }, 
        {
            "source": "Let's now say we improved our painting process, the distribution of the coefficients in the painting limits is not [0.5, 0.4, 0.2] anymore but [0.1, 0.1, 0.1]\nWhen you have the hand on an expression, you can modify the coefficient variable by variable with **set_coefficient** or via a list of (variable, coeff) with **set_coefficients**.", 
            "metadata": {}, 
            "cell_type": "markdown"
        }, 
        {
            "source": "ct_painting.lhs.set_coefficients([(desk, 0.1), (cell, 0.1), (hybrid, 0.1)])", 
            "metadata": {
                "collapsed": true
            }, 
            "execution_count": 16, 
            "outputs": [], 
            "cell_type": "code"
        }, 
        {
            "source": "msol = m.solve(url=SVC_URL, key=SVC_KEY)\nassert msol is not None, \"model can't solve\"\nm.print_solution()", 
            "metadata": {}, 
            "execution_count": 17, 
            "outputs": [
                {
                    "traceback": [
                        "\u001b[0;31m\u001b[0m", 
                        "\u001b[0;31mDOcloudConnectorException\u001b[0mTraceback (most recent call last)", 
                        "\u001b[0;32m<ipython-input-17-0d69b5884f7d>\u001b[0m in \u001b[0;36m<module>\u001b[0;34m()\u001b[0m\n\u001b[0;32m----> 1\u001b[0;31m \u001b[0mmsol\u001b[0m \u001b[0;34m=\u001b[0m \u001b[0mm\u001b[0m\u001b[0;34m.\u001b[0m\u001b[0msolve\u001b[0m\u001b[0;34m(\u001b[0m\u001b[0murl\u001b[0m\u001b[0;34m=\u001b[0m\u001b[0mSVC_URL\u001b[0m\u001b[0;34m,\u001b[0m \u001b[0mkey\u001b[0m\u001b[0;34m=\u001b[0m\u001b[0mSVC_KEY\u001b[0m\u001b[0;34m)\u001b[0m\u001b[0;34m\u001b[0m\u001b[0m\n\u001b[0m\u001b[1;32m      2\u001b[0m \u001b[0;32massert\u001b[0m \u001b[0mmsol\u001b[0m \u001b[0;32mis\u001b[0m \u001b[0;32mnot\u001b[0m \u001b[0mNone\u001b[0m\u001b[0;34m,\u001b[0m \u001b[0;34m\"model can't solve\"\u001b[0m\u001b[0;34m\u001b[0m\u001b[0m\n\u001b[1;32m      3\u001b[0m \u001b[0mm\u001b[0m\u001b[0;34m.\u001b[0m\u001b[0mprint_solution\u001b[0m\u001b[0;34m(\u001b[0m\u001b[0;34m)\u001b[0m\u001b[0;34m\u001b[0m\u001b[0m\n", 
                        "\u001b[0;32m/gpfs/fs01/user/s7e3-47aedd6eaaec18-8cdc7af56667/.local/lib/python2.7/site-packages/docplex/mp/model.pyc\u001b[0m in \u001b[0;36msolve\u001b[0;34m(self, **kwargs)\u001b[0m\n\u001b[1;32m   2903\u001b[0m             \u001b[0;32melif\u001b[0m \u001b[0mhave_credentials\u001b[0m\u001b[0;34m:\u001b[0m\u001b[0;34m\u001b[0m\u001b[0m\n\u001b[1;32m   2904\u001b[0m                 \u001b[0;31m# no context passed as argument, no Cplex installed, try model's own context\u001b[0m\u001b[0;34m\u001b[0m\u001b[0;34m\u001b[0m\u001b[0m\n\u001b[0;32m-> 2905\u001b[0;31m                 \u001b[0;32mreturn\u001b[0m \u001b[0mself\u001b[0m\u001b[0;34m.\u001b[0m\u001b[0m_solve_cloud\u001b[0m\u001b[0;34m(\u001b[0m\u001b[0mcontext\u001b[0m\u001b[0;34m)\u001b[0m\u001b[0;34m\u001b[0m\u001b[0m\n\u001b[0m\u001b[1;32m   2906\u001b[0m             \u001b[0;32melse\u001b[0m\u001b[0;34m:\u001b[0m\u001b[0;34m\u001b[0m\u001b[0m\n\u001b[1;32m   2907\u001b[0m                 \u001b[0;31m# no way to solve.. really\u001b[0m\u001b[0;34m\u001b[0m\u001b[0;34m\u001b[0m\u001b[0m\n", 
                        "\u001b[0;32m/gpfs/fs01/user/s7e3-47aedd6eaaec18-8cdc7af56667/.local/lib/python2.7/site-packages/docplex/mp/model.pyc\u001b[0m in \u001b[0;36m_solve_cloud\u001b[0;34m(self, context)\u001b[0m\n\u001b[1;32m   3071\u001b[0m         \u001b[0mself\u001b[0m\u001b[0;34m.\u001b[0m\u001b[0mnotify_start_solve\u001b[0m\u001b[0;34m(\u001b[0m\u001b[0;34m)\u001b[0m\u001b[0;34m\u001b[0m\u001b[0m\n\u001b[1;32m   3072\u001b[0m         \u001b[0mself\u001b[0m\u001b[0;34m.\u001b[0m\u001b[0m_fire_start_solve_listeners\u001b[0m\u001b[0;34m(\u001b[0m\u001b[0;34m)\u001b[0m\u001b[0;34m\u001b[0m\u001b[0m\n\u001b[0;32m-> 3073\u001b[0;31m         \u001b[0mnew_solution\u001b[0m \u001b[0;34m=\u001b[0m \u001b[0mdocloud_engine\u001b[0m\u001b[0;34m.\u001b[0m\u001b[0msolve\u001b[0m\u001b[0;34m(\u001b[0m\u001b[0mself\u001b[0m\u001b[0;34m,\u001b[0m \u001b[0mparameters\u001b[0m\u001b[0;34m=\u001b[0m\u001b[0mparameters\u001b[0m\u001b[0;34m)\u001b[0m\u001b[0;34m\u001b[0m\u001b[0m\n\u001b[0m\u001b[1;32m   3074\u001b[0m         \u001b[0mself\u001b[0m\u001b[0;34m.\u001b[0m\u001b[0m_set_solution\u001b[0m\u001b[0;34m(\u001b[0m\u001b[0mnew_solution\u001b[0m\u001b[0;34m)\u001b[0m\u001b[0;34m\u001b[0m\u001b[0m\n\u001b[1;32m   3075\u001b[0m         \u001b[0mself\u001b[0m\u001b[0;34m.\u001b[0m\u001b[0m_solve_details\u001b[0m \u001b[0;34m=\u001b[0m \u001b[0mdocloud_engine\u001b[0m\u001b[0;34m.\u001b[0m\u001b[0mget_solve_details\u001b[0m\u001b[0;34m(\u001b[0m\u001b[0;34m)\u001b[0m\u001b[0;34m\u001b[0m\u001b[0m\n", 
                        "\u001b[0;32m/gpfs/fs01/user/s7e3-47aedd6eaaec18-8cdc7af56667/.local/lib/python2.7/site-packages/docplex/mp/docloud_engine.pyc\u001b[0m in \u001b[0;36msolve\u001b[0;34m(self, mdl, parameters)\u001b[0m\n\u001b[1;32m    557\u001b[0m                                     \u001b[0mgzip\u001b[0m\u001b[0;34m=\u001b[0m\u001b[0;32mnot\u001b[0m \u001b[0mself\u001b[0m\u001b[0;34m.\u001b[0m\u001b[0m_exchange_format\u001b[0m\u001b[0;34m.\u001b[0m\u001b[0mis_binary\u001b[0m\u001b[0;34m,\u001b[0m\u001b[0;34m\u001b[0m\u001b[0m\n\u001b[1;32m    558\u001b[0m                                     \u001b[0minfo_callback\u001b[0m\u001b[0;34m=\u001b[0m\u001b[0mnotify_info\u001b[0m\u001b[0;34m,\u001b[0m\u001b[0;34m\u001b[0m\u001b[0m\n\u001b[0;32m--> 559\u001b[0;31m                                     info_to_monitor={'jobid', 'progress'})\n\u001b[0m\u001b[1;32m    560\u001b[0m \u001b[0;34m\u001b[0m\u001b[0m\n\u001b[1;32m    561\u001b[0m         \u001b[0;31m# --- cplex solve details\u001b[0m\u001b[0;34m\u001b[0m\u001b[0;34m\u001b[0m\u001b[0m\n", 
                        "\u001b[0;32m/gpfs/fs01/user/s7e3-47aedd6eaaec18-8cdc7af56667/.local/lib/python2.7/site-packages/docplex/mp/docloud_connector.pyc\u001b[0m in \u001b[0;36msubmit_model_data\u001b[0;34m(self, attachments, gzip, info_callback, info_to_monitor)\u001b[0m\n\u001b[1;32m    141\u001b[0m         \u001b[0mparts\u001b[0m \u001b[0;34m=\u001b[0m \u001b[0murlparse\u001b[0m\u001b[0;34m(\u001b[0m\u001b[0mself\u001b[0m\u001b[0;34m.\u001b[0m\u001b[0mdocloud_context\u001b[0m\u001b[0;34m.\u001b[0m\u001b[0murl\u001b[0m\u001b[0;34m)\u001b[0m\u001b[0;34m\u001b[0m\u001b[0m\n\u001b[1;32m    142\u001b[0m         \u001b[0;32mif\u001b[0m \u001b[0;32mnot\u001b[0m \u001b[0mparts\u001b[0m\u001b[0;34m.\u001b[0m\u001b[0mscheme\u001b[0m\u001b[0;34m:\u001b[0m\u001b[0;34m\u001b[0m\u001b[0m\n\u001b[0;32m--> 143\u001b[0;31m             \u001b[0;32mraise\u001b[0m \u001b[0mDOcloudConnectorException\u001b[0m\u001b[0;34m(\u001b[0m\u001b[0;34m\"Malformed URL: '%s': No schema supplied.\"\u001b[0m \u001b[0;34m%\u001b[0m \u001b[0mself\u001b[0m\u001b[0;34m.\u001b[0m\u001b[0mdocloud_context\u001b[0m\u001b[0;34m.\u001b[0m\u001b[0murl\u001b[0m\u001b[0;34m)\u001b[0m\u001b[0;34m\u001b[0m\u001b[0m\n\u001b[0m\u001b[1;32m    144\u001b[0m \u001b[0;34m\u001b[0m\u001b[0m\n\u001b[1;32m    145\u001b[0m         \u001b[0mproxies\u001b[0m \u001b[0;34m=\u001b[0m \u001b[0mself\u001b[0m\u001b[0;34m.\u001b[0m\u001b[0mdocloud_context\u001b[0m\u001b[0;34m.\u001b[0m\u001b[0mproxies\u001b[0m\u001b[0;34m\u001b[0m\u001b[0m\n", 
                        "\u001b[0;31mDOcloudConnectorException\u001b[0m: Malformed URL: 'ENTER YOUR URL HERE': No schema supplied."
                    ], 
                    "evalue": "Malformed URL: 'ENTER YOUR URL HERE': No schema supplied.", 
                    "ename": "DOcloudConnectorException", 
                    "output_type": "error"
                }
            ], 
            "cell_type": "code"
        }, 
        {
            "source": "#### Relaxations", 
            "metadata": {}, 
            "cell_type": "markdown"
        }, 
        {
            "source": "Now let's introduce a new constraint: `polishing time limit`. ", 
            "metadata": {}, 
            "cell_type": "markdown"
        }, 
        {
            "source": "# constraint: polishing time limit\nct_polishing = m.add_constraint( 0.6 * desk + 0.6 * cell + 0.3 * hybrid <= 290, \"polishing_limit\")", 
            "metadata": {
                "collapsed": true
            }, 
            "execution_count": 18, 
            "outputs": [], 
            "cell_type": "code"
        }, 
        {
            "source": "msol = m.solve(url=SVC_URL, key=SVC_KEY)\nif msol is None:\n    print(\"model can't solve\")", 
            "metadata": {
                "scrolled": true
            }, 
            "execution_count": 19, 
            "outputs": [
                {
                    "traceback": [
                        "\u001b[0;31m\u001b[0m", 
                        "\u001b[0;31mDOcloudConnectorException\u001b[0mTraceback (most recent call last)", 
                        "\u001b[0;32m<ipython-input-19-c82434747179>\u001b[0m in \u001b[0;36m<module>\u001b[0;34m()\u001b[0m\n\u001b[0;32m----> 1\u001b[0;31m \u001b[0mmsol\u001b[0m \u001b[0;34m=\u001b[0m \u001b[0mm\u001b[0m\u001b[0;34m.\u001b[0m\u001b[0msolve\u001b[0m\u001b[0;34m(\u001b[0m\u001b[0murl\u001b[0m\u001b[0;34m=\u001b[0m\u001b[0mSVC_URL\u001b[0m\u001b[0;34m,\u001b[0m \u001b[0mkey\u001b[0m\u001b[0;34m=\u001b[0m\u001b[0mSVC_KEY\u001b[0m\u001b[0;34m)\u001b[0m\u001b[0;34m\u001b[0m\u001b[0m\n\u001b[0m\u001b[1;32m      2\u001b[0m \u001b[0;32mif\u001b[0m \u001b[0mmsol\u001b[0m \u001b[0;32mis\u001b[0m \u001b[0mNone\u001b[0m\u001b[0;34m:\u001b[0m\u001b[0;34m\u001b[0m\u001b[0m\n\u001b[1;32m      3\u001b[0m     \u001b[0;32mprint\u001b[0m\u001b[0;34m(\u001b[0m\u001b[0;34m\"model can't solve\"\u001b[0m\u001b[0;34m)\u001b[0m\u001b[0;34m\u001b[0m\u001b[0m\n", 
                        "\u001b[0;32m/gpfs/fs01/user/s7e3-47aedd6eaaec18-8cdc7af56667/.local/lib/python2.7/site-packages/docplex/mp/model.pyc\u001b[0m in \u001b[0;36msolve\u001b[0;34m(self, **kwargs)\u001b[0m\n\u001b[1;32m   2903\u001b[0m             \u001b[0;32melif\u001b[0m \u001b[0mhave_credentials\u001b[0m\u001b[0;34m:\u001b[0m\u001b[0;34m\u001b[0m\u001b[0m\n\u001b[1;32m   2904\u001b[0m                 \u001b[0;31m# no context passed as argument, no Cplex installed, try model's own context\u001b[0m\u001b[0;34m\u001b[0m\u001b[0;34m\u001b[0m\u001b[0m\n\u001b[0;32m-> 2905\u001b[0;31m                 \u001b[0;32mreturn\u001b[0m \u001b[0mself\u001b[0m\u001b[0;34m.\u001b[0m\u001b[0m_solve_cloud\u001b[0m\u001b[0;34m(\u001b[0m\u001b[0mcontext\u001b[0m\u001b[0;34m)\u001b[0m\u001b[0;34m\u001b[0m\u001b[0m\n\u001b[0m\u001b[1;32m   2906\u001b[0m             \u001b[0;32melse\u001b[0m\u001b[0;34m:\u001b[0m\u001b[0;34m\u001b[0m\u001b[0m\n\u001b[1;32m   2907\u001b[0m                 \u001b[0;31m# no way to solve.. really\u001b[0m\u001b[0;34m\u001b[0m\u001b[0;34m\u001b[0m\u001b[0m\n", 
                        "\u001b[0;32m/gpfs/fs01/user/s7e3-47aedd6eaaec18-8cdc7af56667/.local/lib/python2.7/site-packages/docplex/mp/model.pyc\u001b[0m in \u001b[0;36m_solve_cloud\u001b[0;34m(self, context)\u001b[0m\n\u001b[1;32m   3071\u001b[0m         \u001b[0mself\u001b[0m\u001b[0;34m.\u001b[0m\u001b[0mnotify_start_solve\u001b[0m\u001b[0;34m(\u001b[0m\u001b[0;34m)\u001b[0m\u001b[0;34m\u001b[0m\u001b[0m\n\u001b[1;32m   3072\u001b[0m         \u001b[0mself\u001b[0m\u001b[0;34m.\u001b[0m\u001b[0m_fire_start_solve_listeners\u001b[0m\u001b[0;34m(\u001b[0m\u001b[0;34m)\u001b[0m\u001b[0;34m\u001b[0m\u001b[0m\n\u001b[0;32m-> 3073\u001b[0;31m         \u001b[0mnew_solution\u001b[0m \u001b[0;34m=\u001b[0m \u001b[0mdocloud_engine\u001b[0m\u001b[0;34m.\u001b[0m\u001b[0msolve\u001b[0m\u001b[0;34m(\u001b[0m\u001b[0mself\u001b[0m\u001b[0;34m,\u001b[0m \u001b[0mparameters\u001b[0m\u001b[0;34m=\u001b[0m\u001b[0mparameters\u001b[0m\u001b[0;34m)\u001b[0m\u001b[0;34m\u001b[0m\u001b[0m\n\u001b[0m\u001b[1;32m   3074\u001b[0m         \u001b[0mself\u001b[0m\u001b[0;34m.\u001b[0m\u001b[0m_set_solution\u001b[0m\u001b[0;34m(\u001b[0m\u001b[0mnew_solution\u001b[0m\u001b[0;34m)\u001b[0m\u001b[0;34m\u001b[0m\u001b[0m\n\u001b[1;32m   3075\u001b[0m         \u001b[0mself\u001b[0m\u001b[0;34m.\u001b[0m\u001b[0m_solve_details\u001b[0m \u001b[0;34m=\u001b[0m \u001b[0mdocloud_engine\u001b[0m\u001b[0;34m.\u001b[0m\u001b[0mget_solve_details\u001b[0m\u001b[0;34m(\u001b[0m\u001b[0;34m)\u001b[0m\u001b[0;34m\u001b[0m\u001b[0m\n", 
                        "\u001b[0;32m/gpfs/fs01/user/s7e3-47aedd6eaaec18-8cdc7af56667/.local/lib/python2.7/site-packages/docplex/mp/docloud_engine.pyc\u001b[0m in \u001b[0;36msolve\u001b[0;34m(self, mdl, parameters)\u001b[0m\n\u001b[1;32m    557\u001b[0m                                     \u001b[0mgzip\u001b[0m\u001b[0;34m=\u001b[0m\u001b[0;32mnot\u001b[0m \u001b[0mself\u001b[0m\u001b[0;34m.\u001b[0m\u001b[0m_exchange_format\u001b[0m\u001b[0;34m.\u001b[0m\u001b[0mis_binary\u001b[0m\u001b[0;34m,\u001b[0m\u001b[0;34m\u001b[0m\u001b[0m\n\u001b[1;32m    558\u001b[0m                                     \u001b[0minfo_callback\u001b[0m\u001b[0;34m=\u001b[0m\u001b[0mnotify_info\u001b[0m\u001b[0;34m,\u001b[0m\u001b[0;34m\u001b[0m\u001b[0m\n\u001b[0;32m--> 559\u001b[0;31m                                     info_to_monitor={'jobid', 'progress'})\n\u001b[0m\u001b[1;32m    560\u001b[0m \u001b[0;34m\u001b[0m\u001b[0m\n\u001b[1;32m    561\u001b[0m         \u001b[0;31m# --- cplex solve details\u001b[0m\u001b[0;34m\u001b[0m\u001b[0;34m\u001b[0m\u001b[0m\n", 
                        "\u001b[0;32m/gpfs/fs01/user/s7e3-47aedd6eaaec18-8cdc7af56667/.local/lib/python2.7/site-packages/docplex/mp/docloud_connector.pyc\u001b[0m in \u001b[0;36msubmit_model_data\u001b[0;34m(self, attachments, gzip, info_callback, info_to_monitor)\u001b[0m\n\u001b[1;32m    141\u001b[0m         \u001b[0mparts\u001b[0m \u001b[0;34m=\u001b[0m \u001b[0murlparse\u001b[0m\u001b[0;34m(\u001b[0m\u001b[0mself\u001b[0m\u001b[0;34m.\u001b[0m\u001b[0mdocloud_context\u001b[0m\u001b[0;34m.\u001b[0m\u001b[0murl\u001b[0m\u001b[0;34m)\u001b[0m\u001b[0;34m\u001b[0m\u001b[0m\n\u001b[1;32m    142\u001b[0m         \u001b[0;32mif\u001b[0m \u001b[0;32mnot\u001b[0m \u001b[0mparts\u001b[0m\u001b[0;34m.\u001b[0m\u001b[0mscheme\u001b[0m\u001b[0;34m:\u001b[0m\u001b[0;34m\u001b[0m\u001b[0m\n\u001b[0;32m--> 143\u001b[0;31m             \u001b[0;32mraise\u001b[0m \u001b[0mDOcloudConnectorException\u001b[0m\u001b[0;34m(\u001b[0m\u001b[0;34m\"Malformed URL: '%s': No schema supplied.\"\u001b[0m \u001b[0;34m%\u001b[0m \u001b[0mself\u001b[0m\u001b[0;34m.\u001b[0m\u001b[0mdocloud_context\u001b[0m\u001b[0;34m.\u001b[0m\u001b[0murl\u001b[0m\u001b[0;34m)\u001b[0m\u001b[0;34m\u001b[0m\u001b[0m\n\u001b[0m\u001b[1;32m    144\u001b[0m \u001b[0;34m\u001b[0m\u001b[0m\n\u001b[1;32m    145\u001b[0m         \u001b[0mproxies\u001b[0m \u001b[0;34m=\u001b[0m \u001b[0mself\u001b[0m\u001b[0;34m.\u001b[0m\u001b[0mdocloud_context\u001b[0m\u001b[0;34m.\u001b[0m\u001b[0mproxies\u001b[0m\u001b[0;34m\u001b[0m\u001b[0m\n", 
                        "\u001b[0;31mDOcloudConnectorException\u001b[0m: Malformed URL: 'ENTER YOUR URL HERE': No schema supplied."
                    ], 
                    "evalue": "Malformed URL: 'ENTER YOUR URL HERE': No schema supplied.", 
                    "ename": "DOcloudConnectorException", 
                    "output_type": "error"
                }
            ], 
            "cell_type": "code"
        }, 
        {
            "source": "The model is now infeasible. We need to handle it and dig into the infeasibilities.", 
            "metadata": {}, 
            "cell_type": "markdown"
        }, 
        {
            "source": "You can now use the Relaxer object. You can control the way it will relax the constraints or you can use 1 of the various automatic modes:\n- 'all' relaxes all constraints using a MEDIUM priority; this is the default.\n- 'named' relaxes all constraints with a user name but not the others.\n- 'match' looks for priority names within constraint names; unnamed constraints are not relaxed.\n\nWe will use the 'match' mode.\n<ul>\n<li>Polishing constraint is mandatory.\n<li>Painting constraint is good to have.\n<li>Assembly constraint has low priority.\n</ul>", 
            "metadata": {}, 
            "cell_type": "markdown"
        }, 
        {
            "source": "ct_polishing.name = \"high_\"+ct_polishing.name\nct_assembly.name = \"low_\"+ct_assembly.name\nct_painting.name = \"medium_\"+ct_painting.name", 
            "metadata": {
                "collapsed": true
            }, 
            "execution_count": 20, 
            "outputs": [], 
            "cell_type": "code"
        }, 
        {
            "source": "# if a name contains \"low\", it has priority LOW\n# if a ct name contains \"medium\" it has priority MEDIUM\n# same for HIGH\n# if a constraint has no name or does not match any, it is not relaxable.\nfrom docplex.mp.relaxer import Relaxer\nrelaxer = Relaxer(prioritizer='match', verbose=True)\n\nrelaxed_sol = relaxer.relax(m)\nrelaxed_ok = relaxed_sol is not None\nassert relaxed_ok, \"relaxation failed\"\nrelaxer.print_information()", 
            "metadata": {}, 
            "execution_count": 21, 
            "outputs": [
                {
                    "name": "stdout", 
                    "output_type": "stream", 
                    "text": "-> relaxation #1 starts with priority: LOW, #relaxables=1\n"
                }, 
                {
                    "traceback": [
                        "\u001b[0;31m\u001b[0m", 
                        "\u001b[0;31mDOcplexException\u001b[0mTraceback (most recent call last)", 
                        "\u001b[0;32m<ipython-input-21-924432c14750>\u001b[0m in \u001b[0;36m<module>\u001b[0;34m()\u001b[0m\n\u001b[1;32m      6\u001b[0m \u001b[0mrelaxer\u001b[0m \u001b[0;34m=\u001b[0m \u001b[0mRelaxer\u001b[0m\u001b[0;34m(\u001b[0m\u001b[0mprioritizer\u001b[0m\u001b[0;34m=\u001b[0m\u001b[0;34m'match'\u001b[0m\u001b[0;34m,\u001b[0m \u001b[0mverbose\u001b[0m\u001b[0;34m=\u001b[0m\u001b[0mTrue\u001b[0m\u001b[0;34m)\u001b[0m\u001b[0;34m\u001b[0m\u001b[0m\n\u001b[1;32m      7\u001b[0m \u001b[0;34m\u001b[0m\u001b[0m\n\u001b[0;32m----> 8\u001b[0;31m \u001b[0mrelaxed_sol\u001b[0m \u001b[0;34m=\u001b[0m \u001b[0mrelaxer\u001b[0m\u001b[0;34m.\u001b[0m\u001b[0mrelax\u001b[0m\u001b[0;34m(\u001b[0m\u001b[0mm\u001b[0m\u001b[0;34m)\u001b[0m\u001b[0;34m\u001b[0m\u001b[0m\n\u001b[0m\u001b[1;32m      9\u001b[0m \u001b[0mrelaxed_ok\u001b[0m \u001b[0;34m=\u001b[0m \u001b[0mrelaxed_sol\u001b[0m \u001b[0;32mis\u001b[0m \u001b[0;32mnot\u001b[0m \u001b[0mNone\u001b[0m\u001b[0;34m\u001b[0m\u001b[0m\n\u001b[1;32m     10\u001b[0m \u001b[0;32massert\u001b[0m \u001b[0mrelaxed_ok\u001b[0m\u001b[0;34m,\u001b[0m \u001b[0;34m\"relaxation failed\"\u001b[0m\u001b[0;34m\u001b[0m\u001b[0m\n", 
                        "\u001b[0;32m/gpfs/fs01/user/s7e3-47aedd6eaaec18-8cdc7af56667/.local/lib/python2.7/site-packages/docplex/mp/relaxer.pyc\u001b[0m in \u001b[0;36mrelax\u001b[0;34m(self, mdl, relax_mode, **kwargs)\u001b[0m\n\u001b[1;32m    483\u001b[0m \u001b[0;34m\u001b[0m\u001b[0m\n\u001b[1;32m    484\u001b[0m                     \u001b[0;32mtry\u001b[0m\u001b[0;34m:\u001b[0m\u001b[0;34m\u001b[0m\u001b[0m\n\u001b[0;32m--> 485\u001b[0;31m                         \u001b[0mrelaxed_sol\u001b[0m \u001b[0;34m=\u001b[0m \u001b[0mrelax_engine\u001b[0m\u001b[0;34m.\u001b[0m\u001b[0msolve_relaxed\u001b[0m\u001b[0;34m(\u001b[0m\u001b[0mmdl\u001b[0m\u001b[0;34m,\u001b[0m \u001b[0mprio\u001b[0m\u001b[0;34m.\u001b[0m\u001b[0mname\u001b[0m\u001b[0;34m,\u001b[0m \u001b[0mall_groups\u001b[0m\u001b[0;34m,\u001b[0m \u001b[0mused_relax_mode\u001b[0m\u001b[0;34m)\u001b[0m\u001b[0;34m\u001b[0m\u001b[0m\n\u001b[0m\u001b[1;32m    486\u001b[0m                     \u001b[0;32mfinally\u001b[0m\u001b[0;34m:\u001b[0m\u001b[0;34m\u001b[0m\u001b[0m\n\u001b[1;32m    487\u001b[0m                         \u001b[0mself\u001b[0m\u001b[0;34m.\u001b[0m\u001b[0m_last_relaxation_details\u001b[0m \u001b[0;34m=\u001b[0m \u001b[0mrelax_engine\u001b[0m\u001b[0;34m.\u001b[0m\u001b[0mget_solve_details\u001b[0m\u001b[0;34m(\u001b[0m\u001b[0;34m)\u001b[0m\u001b[0;34m\u001b[0m\u001b[0m\n", 
                        "\u001b[0;32m/gpfs/fs01/user/s7e3-47aedd6eaaec18-8cdc7af56667/.local/lib/python2.7/site-packages/docplex/mp/engine.pyc\u001b[0m in \u001b[0;36msolve_relaxed\u001b[0;34m(self, mdl, prio_name, relaxable_groups, relax_mode, parameters)\u001b[0m\n\u001b[1;32m    453\u001b[0m \u001b[0;34m\u001b[0m\u001b[0m\n\u001b[1;32m    454\u001b[0m     \u001b[0;32mdef\u001b[0m \u001b[0msolve_relaxed\u001b[0m\u001b[0;34m(\u001b[0m\u001b[0mself\u001b[0m\u001b[0;34m,\u001b[0m \u001b[0mmdl\u001b[0m\u001b[0;34m,\u001b[0m \u001b[0mprio_name\u001b[0m\u001b[0;34m,\u001b[0m \u001b[0mrelaxable_groups\u001b[0m\u001b[0;34m,\u001b[0m \u001b[0mrelax_mode\u001b[0m\u001b[0;34m,\u001b[0m \u001b[0mparameters\u001b[0m\u001b[0;34m=\u001b[0m\u001b[0mNone\u001b[0m\u001b[0;34m)\u001b[0m\u001b[0;34m:\u001b[0m\u001b[0;34m\u001b[0m\u001b[0m\n\u001b[0;32m--> 455\u001b[0;31m         \u001b[0mmdl\u001b[0m\u001b[0;34m.\u001b[0m\u001b[0mfatal\u001b[0m\u001b[0;34m(\u001b[0m\u001b[0;34m\"No CPLEX DLL: model cannot be relaxed!\"\u001b[0m\u001b[0;34m)\u001b[0m\u001b[0;34m\u001b[0m\u001b[0m\n\u001b[0m\u001b[1;32m    456\u001b[0m         \u001b[0;32mreturn\u001b[0m \u001b[0mNone\u001b[0m\u001b[0;34m\u001b[0m\u001b[0m\n\u001b[1;32m    457\u001b[0m \u001b[0;34m\u001b[0m\u001b[0m\n", 
                        "\u001b[0;32m/gpfs/fs01/user/s7e3-47aedd6eaaec18-8cdc7af56667/.local/lib/python2.7/site-packages/docplex/mp/model.pyc\u001b[0m in \u001b[0;36mfatal\u001b[0;34m(self, msg, *args)\u001b[0m\n\u001b[1;32m    678\u001b[0m \u001b[0;34m\u001b[0m\u001b[0m\n\u001b[1;32m    679\u001b[0m     \u001b[0;32mdef\u001b[0m \u001b[0mfatal\u001b[0m\u001b[0;34m(\u001b[0m\u001b[0mself\u001b[0m\u001b[0;34m,\u001b[0m \u001b[0mmsg\u001b[0m\u001b[0;34m,\u001b[0m \u001b[0;34m*\u001b[0m\u001b[0margs\u001b[0m\u001b[0;34m)\u001b[0m\u001b[0;34m:\u001b[0m\u001b[0;34m\u001b[0m\u001b[0m\n\u001b[0;32m--> 680\u001b[0;31m         \u001b[0mself\u001b[0m\u001b[0;34m.\u001b[0m\u001b[0m_error_handler\u001b[0m\u001b[0;34m.\u001b[0m\u001b[0mfatal\u001b[0m\u001b[0;34m(\u001b[0m\u001b[0mmsg\u001b[0m\u001b[0;34m,\u001b[0m \u001b[0margs\u001b[0m\u001b[0;34m)\u001b[0m\u001b[0;34m\u001b[0m\u001b[0m\n\u001b[0m\u001b[1;32m    681\u001b[0m \u001b[0;34m\u001b[0m\u001b[0m\n\u001b[1;32m    682\u001b[0m     \u001b[0;32mdef\u001b[0m \u001b[0merror\u001b[0m\u001b[0;34m(\u001b[0m\u001b[0mself\u001b[0m\u001b[0;34m,\u001b[0m \u001b[0mmsg\u001b[0m\u001b[0;34m,\u001b[0m \u001b[0;34m*\u001b[0m\u001b[0margs\u001b[0m\u001b[0;34m)\u001b[0m\u001b[0;34m:\u001b[0m\u001b[0;34m\u001b[0m\u001b[0m\n", 
                        "\u001b[0;32m/gpfs/fs01/user/s7e3-47aedd6eaaec18-8cdc7af56667/.local/lib/python2.7/site-packages/docplex/mp/error_handler.pyc\u001b[0m in \u001b[0;36mfatal\u001b[0;34m(self, msg, args)\u001b[0m\n\u001b[1;32m    208\u001b[0m         \u001b[0mresolved_message\u001b[0m \u001b[0;34m=\u001b[0m \u001b[0mresolve_pattern\u001b[0m\u001b[0;34m(\u001b[0m\u001b[0mmsg\u001b[0m\u001b[0;34m,\u001b[0m \u001b[0margs\u001b[0m\u001b[0;34m)\u001b[0m\u001b[0;34m\u001b[0m\u001b[0m\n\u001b[1;32m    209\u001b[0m         \u001b[0mdocplex_error_stop_here\u001b[0m\u001b[0;34m(\u001b[0m\u001b[0;34m)\u001b[0m\u001b[0;34m\u001b[0m\u001b[0m\n\u001b[0;32m--> 210\u001b[0;31m         \u001b[0;32mraise\u001b[0m \u001b[0mDOcplexException\u001b[0m\u001b[0;34m(\u001b[0m\u001b[0mresolved_message\u001b[0m\u001b[0;34m)\u001b[0m\u001b[0;34m\u001b[0m\u001b[0m\n\u001b[0m\u001b[1;32m    211\u001b[0m \u001b[0;34m\u001b[0m\u001b[0m\n\u001b[1;32m    212\u001b[0m     \u001b[0;32mdef\u001b[0m \u001b[0mok\u001b[0m\u001b[0;34m(\u001b[0m\u001b[0mself\u001b[0m\u001b[0;34m)\u001b[0m\u001b[0;34m:\u001b[0m\u001b[0;34m\u001b[0m\u001b[0m\n", 
                        "\u001b[0;31mDOcplexException\u001b[0m: No CPLEX DLL: model cannot be relaxed!"
                    ], 
                    "evalue": "No CPLEX DLL: model cannot be relaxed!", 
                    "ename": "DOcplexException", 
                    "output_type": "error"
                }
            ], 
            "cell_type": "code"
        }, 
        {
            "source": "m.print_solution()", 
            "metadata": {}, 
            "execution_count": 22, 
            "outputs": [
                {
                    "traceback": [
                        "\u001b[0;31m\u001b[0m", 
                        "\u001b[0;31mDOcplexException\u001b[0mTraceback (most recent call last)", 
                        "\u001b[0;32m<ipython-input-22-6d5f1a2d5547>\u001b[0m in \u001b[0;36m<module>\u001b[0;34m()\u001b[0m\n\u001b[0;32m----> 1\u001b[0;31m \u001b[0mm\u001b[0m\u001b[0;34m.\u001b[0m\u001b[0mprint_solution\u001b[0m\u001b[0;34m(\u001b[0m\u001b[0;34m)\u001b[0m\u001b[0;34m\u001b[0m\u001b[0m\n\u001b[0m", 
                        "\u001b[0;32m/gpfs/fs01/user/s7e3-47aedd6eaaec18-8cdc7af56667/.local/lib/python2.7/site-packages/docplex/mp/model.pyc\u001b[0m in \u001b[0;36mprint_solution\u001b[0;34m(self, print_zeros, objective_fmt, var_value_fmt, **kwargs)\u001b[0m\n\u001b[1;32m   3706\u001b[0m \u001b[0;34m\u001b[0m\u001b[0m\n\u001b[1;32m   3707\u001b[0m         \"\"\"\n\u001b[0;32m-> 3708\u001b[0;31m         \u001b[0mself\u001b[0m\u001b[0;34m.\u001b[0m\u001b[0mcheck_has_solution\u001b[0m\u001b[0;34m(\u001b[0m\u001b[0;34m)\u001b[0m\u001b[0;34m\u001b[0m\u001b[0m\n\u001b[0m\u001b[1;32m   3709\u001b[0m         \u001b[0;32mif\u001b[0m \u001b[0mvar_value_fmt\u001b[0m \u001b[0;32mis\u001b[0m \u001b[0mNone\u001b[0m\u001b[0;34m:\u001b[0m\u001b[0;34m\u001b[0m\u001b[0m\n\u001b[1;32m   3710\u001b[0m             \u001b[0;32mif\u001b[0m \u001b[0mself\u001b[0m\u001b[0;34m.\u001b[0m\u001b[0m_has_username_with_spaces\u001b[0m\u001b[0;34m(\u001b[0m\u001b[0;34m)\u001b[0m\u001b[0;34m:\u001b[0m\u001b[0;34m\u001b[0m\u001b[0m\n", 
                        "\u001b[0;32m/gpfs/fs01/user/s7e3-47aedd6eaaec18-8cdc7af56667/.local/lib/python2.7/site-packages/docplex/mp/model.pyc\u001b[0m in \u001b[0;36mcheck_has_solution\u001b[0;34m(self)\u001b[0m\n\u001b[1;32m   3308\u001b[0m         \u001b[0;31m# see if we can refine messages here...\u001b[0m\u001b[0;34m\u001b[0m\u001b[0;34m\u001b[0m\u001b[0m\n\u001b[1;32m   3309\u001b[0m         \u001b[0;32mif\u001b[0m \u001b[0;32mnot\u001b[0m \u001b[0mself\u001b[0m\u001b[0;34m.\u001b[0m\u001b[0m_has_solution\u001b[0m\u001b[0;34m(\u001b[0m\u001b[0;34m)\u001b[0m\u001b[0;34m:\u001b[0m\u001b[0;34m\u001b[0m\u001b[0m\n\u001b[0;32m-> 3310\u001b[0;31m             \u001b[0mself\u001b[0m\u001b[0;34m.\u001b[0m\u001b[0mfatal\u001b[0m\u001b[0;34m(\u001b[0m\u001b[0;34m\"Model<{0}> did not solve successfully\"\u001b[0m\u001b[0;34m,\u001b[0m \u001b[0mself\u001b[0m\u001b[0;34m.\u001b[0m\u001b[0mname\u001b[0m\u001b[0;34m)\u001b[0m\u001b[0;34m\u001b[0m\u001b[0m\n\u001b[0m\u001b[1;32m   3311\u001b[0m \u001b[0;34m\u001b[0m\u001b[0m\n\u001b[1;32m   3312\u001b[0m     \u001b[0;32mdef\u001b[0m \u001b[0madd_mip_start\u001b[0m\u001b[0;34m(\u001b[0m\u001b[0mself\u001b[0m\u001b[0;34m,\u001b[0m \u001b[0mmip_start_sol\u001b[0m\u001b[0;34m)\u001b[0m\u001b[0;34m:\u001b[0m\u001b[0;34m\u001b[0m\u001b[0m\n", 
                        "\u001b[0;32m/gpfs/fs01/user/s7e3-47aedd6eaaec18-8cdc7af56667/.local/lib/python2.7/site-packages/docplex/mp/model.pyc\u001b[0m in \u001b[0;36mfatal\u001b[0;34m(self, msg, *args)\u001b[0m\n\u001b[1;32m    678\u001b[0m \u001b[0;34m\u001b[0m\u001b[0m\n\u001b[1;32m    679\u001b[0m     \u001b[0;32mdef\u001b[0m \u001b[0mfatal\u001b[0m\u001b[0;34m(\u001b[0m\u001b[0mself\u001b[0m\u001b[0;34m,\u001b[0m \u001b[0mmsg\u001b[0m\u001b[0;34m,\u001b[0m \u001b[0;34m*\u001b[0m\u001b[0margs\u001b[0m\u001b[0;34m)\u001b[0m\u001b[0;34m:\u001b[0m\u001b[0;34m\u001b[0m\u001b[0m\n\u001b[0;32m--> 680\u001b[0;31m         \u001b[0mself\u001b[0m\u001b[0;34m.\u001b[0m\u001b[0m_error_handler\u001b[0m\u001b[0;34m.\u001b[0m\u001b[0mfatal\u001b[0m\u001b[0;34m(\u001b[0m\u001b[0mmsg\u001b[0m\u001b[0;34m,\u001b[0m \u001b[0margs\u001b[0m\u001b[0;34m)\u001b[0m\u001b[0;34m\u001b[0m\u001b[0m\n\u001b[0m\u001b[1;32m    681\u001b[0m \u001b[0;34m\u001b[0m\u001b[0m\n\u001b[1;32m    682\u001b[0m     \u001b[0;32mdef\u001b[0m \u001b[0merror\u001b[0m\u001b[0;34m(\u001b[0m\u001b[0mself\u001b[0m\u001b[0;34m,\u001b[0m \u001b[0mmsg\u001b[0m\u001b[0;34m,\u001b[0m \u001b[0;34m*\u001b[0m\u001b[0margs\u001b[0m\u001b[0;34m)\u001b[0m\u001b[0;34m:\u001b[0m\u001b[0;34m\u001b[0m\u001b[0m\n", 
                        "\u001b[0;32m/gpfs/fs01/user/s7e3-47aedd6eaaec18-8cdc7af56667/.local/lib/python2.7/site-packages/docplex/mp/error_handler.pyc\u001b[0m in \u001b[0;36mfatal\u001b[0;34m(self, msg, args)\u001b[0m\n\u001b[1;32m    208\u001b[0m         \u001b[0mresolved_message\u001b[0m \u001b[0;34m=\u001b[0m \u001b[0mresolve_pattern\u001b[0m\u001b[0;34m(\u001b[0m\u001b[0mmsg\u001b[0m\u001b[0;34m,\u001b[0m \u001b[0margs\u001b[0m\u001b[0;34m)\u001b[0m\u001b[0;34m\u001b[0m\u001b[0m\n\u001b[1;32m    209\u001b[0m         \u001b[0mdocplex_error_stop_here\u001b[0m\u001b[0;34m(\u001b[0m\u001b[0;34m)\u001b[0m\u001b[0;34m\u001b[0m\u001b[0m\n\u001b[0;32m--> 210\u001b[0;31m         \u001b[0;32mraise\u001b[0m \u001b[0mDOcplexException\u001b[0m\u001b[0;34m(\u001b[0m\u001b[0mresolved_message\u001b[0m\u001b[0;34m)\u001b[0m\u001b[0;34m\u001b[0m\u001b[0m\n\u001b[0m\u001b[1;32m    211\u001b[0m \u001b[0;34m\u001b[0m\u001b[0m\n\u001b[1;32m    212\u001b[0m     \u001b[0;32mdef\u001b[0m \u001b[0mok\u001b[0m\u001b[0;34m(\u001b[0m\u001b[0mself\u001b[0m\u001b[0;34m)\u001b[0m\u001b[0;34m:\u001b[0m\u001b[0;34m\u001b[0m\u001b[0m\n", 
                        "\u001b[0;31mDOcplexException\u001b[0m: Model<telephone_production> did not solve successfully"
                    ], 
                    "evalue": "Model<telephone_production> did not solve successfully", 
                    "ename": "DOcplexException", 
                    "output_type": "error"
                }
            ], 
            "cell_type": "code"
        }, 
        {
            "source": "ct_polishing_relax = relaxer.get_relaxation(ct_polishing)\nprint(\"* found slack of {0} for polish ct\".format(ct_polishing_relax))\nct_polishing.rhs+= ct_polishing_relax\nm.solve()\nm.report()\nm.print_solution()", 
            "metadata": {}, 
            "execution_count": 23, 
            "outputs": [
                {
                    "traceback": [
                        "\u001b[0;31m\u001b[0m", 
                        "\u001b[0;31mDOcplexException\u001b[0mTraceback (most recent call last)", 
                        "\u001b[0;32m<ipython-input-23-5bea73f3d463>\u001b[0m in \u001b[0;36m<module>\u001b[0;34m()\u001b[0m\n\u001b[0;32m----> 1\u001b[0;31m \u001b[0mct_polishing_relax\u001b[0m \u001b[0;34m=\u001b[0m \u001b[0mrelaxer\u001b[0m\u001b[0;34m.\u001b[0m\u001b[0mget_relaxation\u001b[0m\u001b[0;34m(\u001b[0m\u001b[0mct_polishing\u001b[0m\u001b[0;34m)\u001b[0m\u001b[0;34m\u001b[0m\u001b[0m\n\u001b[0m\u001b[1;32m      2\u001b[0m \u001b[0;32mprint\u001b[0m\u001b[0;34m(\u001b[0m\u001b[0;34m\"* found slack of {0} for polish ct\"\u001b[0m\u001b[0;34m.\u001b[0m\u001b[0mformat\u001b[0m\u001b[0;34m(\u001b[0m\u001b[0mct_polishing_relax\u001b[0m\u001b[0;34m)\u001b[0m\u001b[0;34m)\u001b[0m\u001b[0;34m\u001b[0m\u001b[0m\n\u001b[1;32m      3\u001b[0m \u001b[0mct_polishing\u001b[0m\u001b[0;34m.\u001b[0m\u001b[0mrhs\u001b[0m\u001b[0;34m+=\u001b[0m \u001b[0mct_polishing_relax\u001b[0m\u001b[0;34m\u001b[0m\u001b[0m\n\u001b[1;32m      4\u001b[0m \u001b[0mm\u001b[0m\u001b[0;34m.\u001b[0m\u001b[0msolve\u001b[0m\u001b[0;34m(\u001b[0m\u001b[0;34m)\u001b[0m\u001b[0;34m\u001b[0m\u001b[0m\n\u001b[1;32m      5\u001b[0m \u001b[0mm\u001b[0m\u001b[0;34m.\u001b[0m\u001b[0mreport\u001b[0m\u001b[0;34m(\u001b[0m\u001b[0;34m)\u001b[0m\u001b[0;34m\u001b[0m\u001b[0m\n", 
                        "\u001b[0;32m/gpfs/fs01/user/s7e3-47aedd6eaaec18-8cdc7af56667/.local/lib/python2.7/site-packages/docplex/mp/relaxer.pyc\u001b[0m in \u001b[0;36mget_relaxation\u001b[0;34m(self, ct)\u001b[0m\n\u001b[1;32m    585\u001b[0m             \u001b[0mThe\u001b[0m \u001b[0mmethod\u001b[0m \u001b[0mreturns\u001b[0m \u001b[0;36m0\u001b[0m \u001b[0;32mif\u001b[0m \u001b[0mthe\u001b[0m \u001b[0mconstraint\u001b[0m \u001b[0mhas\u001b[0m \u001b[0;32mnot\u001b[0m \u001b[0mbeen\u001b[0m \u001b[0mrelaxed\u001b[0m\u001b[0;34m.\u001b[0m\u001b[0;34m\u001b[0m\u001b[0m\n\u001b[1;32m    586\u001b[0m         \"\"\"\n\u001b[0;32m--> 587\u001b[0;31m         \u001b[0mself\u001b[0m\u001b[0;34m.\u001b[0m\u001b[0m_check_successful_relaxation\u001b[0m\u001b[0;34m(\u001b[0m\u001b[0;34m)\u001b[0m\u001b[0;34m\u001b[0m\u001b[0m\n\u001b[0m\u001b[1;32m    588\u001b[0m         \u001b[0;32mreturn\u001b[0m \u001b[0mself\u001b[0m\u001b[0;34m.\u001b[0m\u001b[0m_relaxations\u001b[0m\u001b[0;34m.\u001b[0m\u001b[0mget\u001b[0m\u001b[0;34m(\u001b[0m\u001b[0mct\u001b[0m\u001b[0;34m,\u001b[0m \u001b[0;36m0\u001b[0m\u001b[0;34m)\u001b[0m\u001b[0;34m\u001b[0m\u001b[0m\n\u001b[1;32m    589\u001b[0m \u001b[0;34m\u001b[0m\u001b[0m\n", 
                        "\u001b[0;32m/gpfs/fs01/user/s7e3-47aedd6eaaec18-8cdc7af56667/.local/lib/python2.7/site-packages/docplex/mp/relaxer.pyc\u001b[0m in \u001b[0;36m_check_successful_relaxation\u001b[0;34m(self)\u001b[0m\n\u001b[1;32m    322\u001b[0m     \u001b[0;32mdef\u001b[0m \u001b[0m_check_successful_relaxation\u001b[0m\u001b[0;34m(\u001b[0m\u001b[0mself\u001b[0m\u001b[0;34m)\u001b[0m\u001b[0;34m:\u001b[0m\u001b[0;34m\u001b[0m\u001b[0m\n\u001b[1;32m    323\u001b[0m         \u001b[0;32mif\u001b[0m \u001b[0;32mnot\u001b[0m \u001b[0mself\u001b[0m\u001b[0;34m.\u001b[0m\u001b[0m_last_relaxation_status\u001b[0m\u001b[0;34m:\u001b[0m\u001b[0;34m\u001b[0m\u001b[0m\n\u001b[0;32m--> 324\u001b[0;31m             \u001b[0mdocplex_fatal\u001b[0m\u001b[0;34m(\u001b[0m\u001b[0;34m\"No relaxed solution is present\"\u001b[0m\u001b[0;34m)\u001b[0m\u001b[0;34m\u001b[0m\u001b[0m\n\u001b[0m\u001b[1;32m    325\u001b[0m \u001b[0;34m\u001b[0m\u001b[0m\n\u001b[1;32m    326\u001b[0m     \u001b[0;32mdef\u001b[0m \u001b[0m_reset\u001b[0m\u001b[0;34m(\u001b[0m\u001b[0mself\u001b[0m\u001b[0;34m)\u001b[0m\u001b[0;34m:\u001b[0m\u001b[0;34m\u001b[0m\u001b[0m\n", 
                        "\u001b[0;32m/gpfs/fs01/user/s7e3-47aedd6eaaec18-8cdc7af56667/.local/lib/python2.7/site-packages/docplex/mp/error_handler.pyc\u001b[0m in \u001b[0;36mdocplex_fatal\u001b[0;34m(msg, *args)\u001b[0m\n\u001b[1;32m    249\u001b[0m     \u001b[0mresolved_message\u001b[0m \u001b[0;34m=\u001b[0m \u001b[0mresolve_pattern\u001b[0m\u001b[0;34m(\u001b[0m\u001b[0mmsg\u001b[0m\u001b[0;34m,\u001b[0m \u001b[0margs\u001b[0m\u001b[0;34m)\u001b[0m\u001b[0;34m\u001b[0m\u001b[0m\n\u001b[1;32m    250\u001b[0m     \u001b[0mdocplex_error_stop_here\u001b[0m\u001b[0;34m(\u001b[0m\u001b[0;34m)\u001b[0m\u001b[0;34m\u001b[0m\u001b[0m\n\u001b[0;32m--> 251\u001b[0;31m     \u001b[0;32mraise\u001b[0m \u001b[0mDOcplexException\u001b[0m\u001b[0;34m(\u001b[0m\u001b[0mresolved_message\u001b[0m\u001b[0;34m)\u001b[0m\u001b[0;34m\u001b[0m\u001b[0m\n\u001b[0m\u001b[1;32m    252\u001b[0m \u001b[0;34m\u001b[0m\u001b[0m\n\u001b[1;32m    253\u001b[0m \u001b[0;34m\u001b[0m\u001b[0m\n", 
                        "\u001b[0;31mDOcplexException\u001b[0m: No relaxed solution is present"
                    ], 
                    "evalue": "No relaxed solution is present", 
                    "ename": "DOcplexException", 
                    "output_type": "error"
                }
            ], 
            "cell_type": "code"
        }, 
        {
            "source": "## Summary\n\n\nYou learned how to set up and use the IBM Decision Optimization CPLEX Modeling for Python to formulate a Mathematical Programming model and modify it in various ways.", 
            "metadata": {}, 
            "cell_type": "markdown"
        }, 
        {
            "source": "##  References\n* [CPLEX Modeling for Python documentation](https://rawgit.com/IBMDecisionOptimization/docplex-doc/master/docs/index.html)\n* [Decision Optimization on Cloud](https://developer.ibm.com/docloud/)\n* [Decision Optimization documentation](https://datascience.ibm.com/docs/content/DO/DOinDSX.html)\n* For help with DOcplex, or to report a defect, go [here](https://developer.ibm.com/answers/smartspace/docloud).\n* Contact us at dofeedback@wwpdl.vnet.ibm.com\n", 
            "metadata": {
                "render": true
            }, 
            "cell_type": "markdown"
        }, 
        {
            "source": "<div class=\"alert alert-block alert-info\"> Note: To save resources and get the best performance please use the code below to stop the kernel before exiting your notebook.</div>", 
            "metadata": {}, 
            "cell_type": "markdown"
        }, 
        {
            "source": "%%javascript\nJupyter.notebook.session.delete();", 
            "metadata": {}, 
            "execution_count": null, 
            "outputs": [
                {
                    "data": {
                        "application/javascript": "Jupyter.notebook.session.delete();", 
                        "text/plain": "<IPython.core.display.Javascript object>"
                    }, 
                    "metadata": {}, 
                    "output_type": "display_data"
                }
            ], 
            "cell_type": "code"
        }, 
        {
            "source": "Copyright \u00a9 2017 IBM. Sample Materials.", 
            "metadata": {}, 
            "cell_type": "markdown"
        }
    ], 
    "nbformat_minor": 1
}